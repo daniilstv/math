{
 "cells": [
  {
   "cell_type": "markdown",
   "metadata": {},
   "source": [
    "#### Математическая логика"
   ]
  },
  {
   "cell_type": "markdown",
   "metadata": {},
   "source": [
    "1. Не является тавтологией, т.к. не истинна при любых значениях\n",
    "\n",
    "А или B следует B или не А\n",
    "И или Л -> Л или Л\n",
    "И -> Л\n",
    "Л\n",
    "Л или И -> И или И\n",
    "И -> И\n",
    "И"
   ]
  },
  {
   "cell_type": "markdown",
   "metadata": {},
   "source": [
    "2. Является тавтологией. Истинна при любых значениях. \n",
    "Также тут должен работать закон поглощения для конъюнкции\n",
    "А -> (А или (не В и А))\n",
    "И -> (И или (не Л и И))\n",
    "И -> (И или И)\n",
    "И -> И\n",
    "И\n",
    "\n",
    "Л -> (Л или (не И и Л))\n",
    "Л -> (Л или Л)\n",
    "Л -> Л\n",
    "И\n",
    "\n",
    "Л -> (Л или (не Л и Л))\n",
    "Л -> (Л или Л)\n",
    "Л -> Л\n",
    "И\n",
    "\n"
   ]
  },
  {
   "cell_type": "code",
   "execution_count": 1,
   "metadata": {
    "scrolled": true
   },
   "outputs": [
    {
     "data": {
      "text/plain": [
       "True"
      ]
     },
     "execution_count": 1,
     "metadata": {},
     "output_type": "execute_result"
    }
   ],
   "source": [
    "False or True"
   ]
  },
  {
   "cell_type": "markdown",
   "metadata": {},
   "source": [
    "3. Из не-А или В следует не С. Из дизъюнкции отрицания А и В следует отрицание С.\n",
    "\n",
    "Раз сегодня не светит солнце или сыро, значит я не поеду на дачу"
   ]
  },
  {
   "cell_type": "markdown",
   "metadata": {},
   "source": [
    "4. Я еду на дачу, значит сегодня светит солнце или сухо."
   ]
  },
  {
   "cell_type": "markdown",
   "metadata": {},
   "source": [
    "5. На одном курсе одного факультета все студенты,\n",
    "сдающие хотя бы один экзамен не на «отлично»."
   ]
  },
  {
   "cell_type": "markdown",
   "metadata": {},
   "source": [
    "6. Хотя бы у одного студента философского факультета все друзья не сумеют решить одну логическую задачу."
   ]
  },
  {
   "cell_type": "markdown",
   "metadata": {},
   "source": [
    "7. В самолете на рейсе Вашингтон-Москва у всех сотрудников силовых органов, в одной\n",
    "пуговице одежды вмонтирован микрофон."
   ]
  },
  {
   "cell_type": "markdown",
   "metadata": {},
   "source": [
    "8. 0.(216)\n",
    "\n",
    "1000a = 216 + 0.(216)\n",
    "1000a = 216 + a\n",
    "999a = 216\n",
    "a = 8/37\n",
    "0.(216) = 8/37"
   ]
  },
  {
   "cell_type": "markdown",
   "metadata": {},
   "source": [
    "9. 1.0(01)\n",
    "1 + 0.0(1)\n",
    "\n",
    "1000a =  1 + 0.0(01)\n",
    "1000a = 1 + 10a\n",
    "990a = 1\n",
    "1+1/990"
   ]
  },
  {
   "cell_type": "markdown",
   "metadata": {},
   "source": [
    "10. 1 = 1/2+1/3+1/6"
   ]
  },
  {
   "cell_type": "markdown",
   "metadata": {},
   "source": [
    "11. 1 = 1/10+1/15+1/2+1/4+1/18+1/36"
   ]
  },
  {
   "cell_type": "code",
   "execution_count": null,
   "metadata": {},
   "outputs": [],
   "source": [
    "12. Каждая следующая дробь меньше половины предыдущей. Т.о. бесконечное кол-во дробей не будет больше 1.\n",
    "Последовательность стремится к 1. \n",
    "lim = 1"
   ]
  },
  {
   "cell_type": "code",
   "execution_count": null,
   "metadata": {},
   "outputs": [],
   "source": [
    "13. pass"
   ]
  },
  {
   "cell_type": "code",
   "execution_count": null,
   "metadata": {},
   "outputs": [],
   "source": [
    "14. pass"
   ]
  }
 ],
 "metadata": {
  "kernelspec": {
   "display_name": "Python 3",
   "language": "python",
   "name": "python3"
  },
  "language_info": {
   "codemirror_mode": {
    "name": "ipython",
    "version": 3
   },
   "file_extension": ".py",
   "mimetype": "text/x-python",
   "name": "python",
   "nbconvert_exporter": "python",
   "pygments_lexer": "ipython3",
   "version": "3.7.3"
  }
 },
 "nbformat": 4,
 "nbformat_minor": 2
}
