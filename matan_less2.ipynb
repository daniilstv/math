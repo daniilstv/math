{
  "cells": [
    {
      "metadata": {},
      "cell_type": "markdown",
      "source": "1.\tДаны три множества a,b и с. Необходимо выполнить все изученные виды бинарных операций над всеми комбинациями множеств."
    },
    {
      "metadata": {
        "trusted": true
      },
      "cell_type": "code",
      "source": "a = {1, 2, 3, 4, 5,}\nb =  {1,2,3,8,9}\nc = {1,3, 4, 5,9,}\n\n",
      "execution_count": 6,
      "outputs": []
    },
    {
      "metadata": {
        "trusted": true
      },
      "cell_type": "code",
      "source": "## Пересечение (центр схемы кругов Эйлера)\nprint( a & b & c)",
      "execution_count": 9,
      "outputs": [
        {
          "output_type": "stream",
          "text": "{1, 3}\n",
          "name": "stdout"
        }
      ]
    },
    {
      "metadata": {
        "trusted": true
      },
      "cell_type": "code",
      "source": "set.intersection(a, b, c)",
      "execution_count": 14,
      "outputs": [
        {
          "output_type": "execute_result",
          "execution_count": 14,
          "data": {
            "text/plain": "{1, 3}"
          },
          "metadata": {}
        }
      ]
    },
    {
      "metadata": {
        "trusted": true
      },
      "cell_type": "code",
      "source": "## Объединение\na | b | c",
      "execution_count": 11,
      "outputs": [
        {
          "output_type": "execute_result",
          "execution_count": 11,
          "data": {
            "text/plain": "{1, 2, 3, 4, 5, 8, 9}"
          },
          "metadata": {}
        }
      ]
    },
    {
      "metadata": {
        "trusted": true
      },
      "cell_type": "code",
      "source": "set.union(a, b, c)",
      "execution_count": 13,
      "outputs": [
        {
          "output_type": "execute_result",
          "execution_count": 13,
          "data": {
            "text/plain": "{1, 2, 3, 4, 5, 8, 9}"
          },
          "metadata": {}
        }
      ]
    },
    {
      "metadata": {
        "trusted": true
      },
      "cell_type": "code",
      "source": "## Разность\nprint(a - b - c)\nprint(b - c - a)\nprint(c - b - a)",
      "execution_count": 29,
      "outputs": [
        {
          "output_type": "stream",
          "text": "set()\n{8}\nset()\n",
          "name": "stdout"
        }
      ]
    },
    {
      "metadata": {
        "trusted": true
      },
      "cell_type": "code",
      "source": "print(set.difference(a, b, c))\nprint(set.difference(b, a, c))\nprint(set.difference(c, b, a))",
      "execution_count": 31,
      "outputs": [
        {
          "output_type": "stream",
          "text": "set()\n{8}\nset()\n",
          "name": "stdout"
        }
      ]
    },
    {
      "metadata": {
        "trusted": true
      },
      "cell_type": "code",
      "source": "## Симметрическая разность\nprint(a ^ b ^ c)",
      "execution_count": 22,
      "outputs": [
        {
          "output_type": "stream",
          "text": "{1, 3, 8}\n{1, 3, 8}\n",
          "name": "stdout"
        }
      ]
    },
    {
      "metadata": {
        "trusted": true
      },
      "cell_type": "code",
      "source": "set.symmetric_difference(set.symmetric_difference(a, b), c)",
      "execution_count": 19,
      "outputs": [
        {
          "output_type": "execute_result",
          "execution_count": 19,
          "data": {
            "text/plain": "{1, 3, 8}"
          },
          "metadata": {}
        }
      ]
    },
    {
      "metadata": {
        "trusted": true,
        "scrolled": true
      },
      "cell_type": "code",
      "source": "d = set.symmetric_difference(a, b)\nset.symmetric_difference(d, c)",
      "execution_count": 18,
      "outputs": [
        {
          "output_type": "execute_result",
          "execution_count": 18,
          "data": {
            "text/plain": "{1, 3, 8}"
          },
          "metadata": {}
        }
      ]
    },
    {
      "metadata": {
        "trusted": true
      },
      "cell_type": "code",
      "source": "## Декартово произведение\nd = set()\nfor i in a:\n    for j in b:\n        for k in b:\n            # print(i,j,k)\n            x = i*j*k\n            d.add(x)\n            # print(x)\n\nprint(d)",
      "execution_count": 43,
      "outputs": [
        {
          "output_type": "stream",
          "text": "{128, 1, 2, 3, 4, 256, 6, 5, 8, 9, 10, 135, 12, 15, 16, 144, 18, 20, 405, 24, 27, 30, 32, 288, 162, 36, 40, 45, 48, 54, 64, 192, 320, 324, 72, 80, 81, 216, 90, 96, 360, 108, 243, 120}\n",
          "name": "stdout"
        }
      ]
    },
    {
      "metadata": {
        "trusted": true
      },
      "cell_type": "code",
      "source": "",
      "execution_count": 42,
      "outputs": [
        {
          "output_type": "stream",
          "text": "{128, 1, 2, 3, 4, 256, 6, 5, 8, 9, 10, 135, 12, 15, 16, 144, 18, 20, 405, 24, 27, 30, 32, 288, 162, 36, 40, 45, 48, 54, 64, 192, 320, 324, 72, 80, 81, 216, 90, 96, 360, 108, 243, 120}\n",
          "name": "stdout"
        }
      ]
    },
    {
      "metadata": {
        "trusted": true
      },
      "cell_type": "code",
      "source": "",
      "execution_count": null,
      "outputs": []
    }
  ],
  "metadata": {
    "kernelspec": {
      "name": "python36",
      "display_name": "Python 3.6",
      "language": "python"
    },
    "language_info": {
      "mimetype": "text/x-python",
      "nbconvert_exporter": "python",
      "name": "python",
      "pygments_lexer": "ipython3",
      "version": "3.6.6",
      "file_extension": ".py",
      "codemirror_mode": {
        "version": 3,
        "name": "ipython"
      }
    }
  },
  "nbformat": 4,
  "nbformat_minor": 2
}