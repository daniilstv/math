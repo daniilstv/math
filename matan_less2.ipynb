{
  "cells": [
    {
      "metadata": {},
      "cell_type": "markdown",
      "source": "#### Тема 2 \n1.\tДаны три множества a,b и с. Необходимо выполнить все изученные виды бинарных операций над всеми комбинациями множеств."
    },
    {
      "metadata": {
        "trusted": true
      },
      "cell_type": "code",
      "source": "a = {1, 2, 3, 4, 5,}\nb =  {1,2,3,8,9}\nc = {1,3, 4, 5,9,}\n\n## Пересечение (центр схемы кругов Эйлера)\nprint(\"Пересечение (центр схемы кругов Эйлера)\", a & b & c)\n\n## Объединение\nprint(\"\\nОбъединение\", a | b | c)\n\n## Разность\nprint(\"\\nРазность:\")\nprint(a - b - c)\nprint(b - c - a)\nprint(c - b - a)\n\n## Симметрическая разность\nprint(\"\\nСимметрическая разность\", a ^ b ^ c)\n\n\n## Декартово произведение\nd = set()\nfor i in a:\n    for j in b:\n        for k in b:\n            # print(i,j,k)\n            x = i*j*k\n            d.add(x)\n            # print(x)\n\nprint(\"\\nДекартово произведение\", d)",
      "execution_count": 13,
      "outputs": [
        {
          "output_type": "stream",
          "text": "Пересечение (центр схемы кругов Эйлера) {1, 3}\n\nОбъединение {1, 2, 3, 4, 5, 8, 9}\n\nРазность:\nset()\n{8}\nset()\n\nСимметрическая разность {1, 3, 8}\n\nДекартово произведение {128, 1, 2, 3, 4, 256, 6, 5, 8, 9, 10, 135, 12, 15, 16, 144, 18, 20, 405, 24, 27, 30, 32, 288, 162, 36, 40, 45, 48, 54, 64, 192, 320, 324, 72, 80, 81, 216, 90, 96, 360, 108, 243, 120}\n",
          "name": "stdout"
        }
      ]
    },
    {
      "metadata": {
        "trusted": true
      },
      "cell_type": "code",
      "source": "set.intersection(a, b, c)",
      "execution_count": 14,
      "outputs": [
        {
          "output_type": "execute_result",
          "execution_count": 14,
          "data": {
            "text/plain": "{1, 3}"
          },
          "metadata": {}
        }
      ]
    },
    {
      "metadata": {
        "trusted": true
      },
      "cell_type": "code",
      "source": "set.union(a, b, c)",
      "execution_count": 13,
      "outputs": [
        {
          "output_type": "execute_result",
          "execution_count": 13,
          "data": {
            "text/plain": "{1, 2, 3, 4, 5, 8, 9}"
          },
          "metadata": {}
        }
      ]
    },
    {
      "metadata": {
        "trusted": true
      },
      "cell_type": "code",
      "source": "print(set.difference(a, b, c))\nprint(set.difference(b, a, c))\nprint(set.difference(c, b, a))",
      "execution_count": 31,
      "outputs": [
        {
          "output_type": "stream",
          "text": "set()\n{8}\nset()\n",
          "name": "stdout"
        }
      ]
    },
    {
      "metadata": {
        "trusted": true
      },
      "cell_type": "code",
      "source": "set.symmetric_difference(set.symmetric_difference(a, b), c)",
      "execution_count": 19,
      "outputs": [
        {
          "output_type": "execute_result",
          "execution_count": 19,
          "data": {
            "text/plain": "{1, 3, 8}"
          },
          "metadata": {}
        }
      ]
    },
    {
      "metadata": {
        "trusted": true,
        "scrolled": true
      },
      "cell_type": "code",
      "source": "d = set.symmetric_difference(a, b)\nset.symmetric_difference(d, c)",
      "execution_count": 18,
      "outputs": [
        {
          "output_type": "execute_result",
          "execution_count": 18,
          "data": {
            "text/plain": "{1, 3, 8}"
          },
          "metadata": {}
        }
      ]
    },
    {
      "metadata": {
        "trusted": true
      },
      "cell_type": "code",
      "source": "print(len(d))\n5**3",
      "execution_count": 19,
      "outputs": [
        {
          "output_type": "stream",
          "text": "44\n",
          "name": "stdout"
        },
        {
          "output_type": "execute_result",
          "execution_count": 19,
          "data": {
            "text/plain": "125"
          },
          "metadata": {}
        }
      ]
    },
    {
      "metadata": {
        "trusted": true
      },
      "cell_type": "markdown",
      "source": "#### Тема 3\n"
    },
    {
      "metadata": {
        "trusted": true
      },
      "cell_type": "code",
      "source": "# C. найти пятый по счету член.\nimport numpy as np\n\na5 = 2**5 - 5\nb5 = 10/(1-10)\nc5 = -1**5 + np.sqrt(2*5)\nd5 = (-1)**10+1/25\n\nprint(\"a5\", a5)\nprint(\"b5 (5n = 10)\", b5)\nprint(\"c5 = sqrt(10)-1   \", c5) # https://www.wolframalpha.com/input/?i=-1**5+%2B+sqrt(2*5) \nprint(\"d5\", d5)\n",
      "execution_count": 47,
      "outputs": [
        {
          "output_type": "stream",
          "text": "a5 27\nb5 (5n = 10) -1.1111111111111112\nc5 = sqrt(10)-1    2.1622776601683795\nd5 1.04\n",
          "name": "stdout"
        }
      ]
    },
    {
      "metadata": {
        "trusted": true
      },
      "cell_type": "code",
      "source": "",
      "execution_count": null,
      "outputs": []
    }
  ],
  "metadata": {
    "kernelspec": {
      "name": "python36",
      "display_name": "Python 3.6",
      "language": "python"
    },
    "language_info": {
      "mimetype": "text/x-python",
      "nbconvert_exporter": "python",
      "name": "python",
      "pygments_lexer": "ipython3",
      "version": "3.6.6",
      "file_extension": ".py",
      "codemirror_mode": {
        "version": 3,
        "name": "ipython"
      }
    }
  },
  "nbformat": 4,
  "nbformat_minor": 2
}