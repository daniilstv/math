{
 "cells": [
  {
   "cell_type": "markdown",
   "metadata": {},
   "source": [
    "#### Тема 2 \n",
    "1.\tДаны три множества a,b и с. Необходимо выполнить все изученные виды бинарных операций над всеми комбинациями множеств."
   ]
  },
  {
   "cell_type": "code",
   "execution_count": 13,
   "metadata": {},
   "outputs": [
    {
     "name": "stdout",
     "output_type": "stream",
     "text": [
      "Пересечение (центр схемы кругов Эйлера) {1, 3}\n",
      "\n",
      "Объединение {1, 2, 3, 4, 5, 8, 9}\n",
      "\n",
      "Разность:\n",
      "set()\n",
      "{8}\n",
      "set()\n",
      "\n",
      "Симметрическая разность {1, 3, 8}\n",
      "\n",
      "Декартово произведение {128, 1, 2, 3, 4, 256, 6, 5, 8, 9, 10, 135, 12, 15, 16, 144, 18, 20, 405, 24, 27, 30, 32, 288, 162, 36, 40, 45, 48, 54, 64, 192, 320, 324, 72, 80, 81, 216, 90, 96, 360, 108, 243, 120}\n"
     ]
    }
   ],
   "source": [
    "a = {1, 2, 3, 4, 5,}\n",
    "b =  {1,2,3,8,9}\n",
    "c = {1,3, 4, 5,9,}\n",
    "\n",
    "## Пересечение (центр схемы кругов Эйлера)\n",
    "print(\"Пересечение (центр схемы кругов Эйлера)\", a & b & c)\n",
    "\n",
    "## Объединение\n",
    "print(\"\\nОбъединение\", a | b | c)\n",
    "\n",
    "## Разность\n",
    "print(\"\\nРазность:\")\n",
    "print(a - b - c)\n",
    "print(b - c - a)\n",
    "print(c - b - a)\n",
    "\n",
    "## Симметрическая разность\n",
    "print(\"\\nСимметрическая разность\", a ^ b ^ c)\n",
    "\n",
    "\n",
    "## Декартово произведение\n",
    "d = set()\n",
    "for i in a:\n",
    "    for j in b:\n",
    "        for k in b:\n",
    "            # print(i,j,k)\n",
    "            x = i*j*k\n",
    "            d.add(x)\n",
    "            # print(x)\n",
    "\n",
    "print(\"\\nДекартово произведение\", d)"
   ]
  },
  {
   "cell_type": "code",
   "execution_count": 14,
   "metadata": {},
   "outputs": [
    {
     "data": {
      "text/plain": [
       "{1, 3}"
      ]
     },
     "execution_count": 14,
     "metadata": {},
     "output_type": "execute_result"
    }
   ],
   "source": [
    "set.intersection(a, b, c)"
   ]
  },
  {
   "cell_type": "code",
   "execution_count": 13,
   "metadata": {},
   "outputs": [
    {
     "data": {
      "text/plain": [
       "{1, 2, 3, 4, 5, 8, 9}"
      ]
     },
     "execution_count": 13,
     "metadata": {},
     "output_type": "execute_result"
    }
   ],
   "source": [
    "set.union(a, b, c)"
   ]
  },
  {
   "cell_type": "code",
   "execution_count": 31,
   "metadata": {},
   "outputs": [
    {
     "name": "stdout",
     "output_type": "stream",
     "text": [
      "set()\n",
      "{8}\n",
      "set()\n"
     ]
    }
   ],
   "source": [
    "print(set.difference(a, b, c))\n",
    "print(set.difference(b, a, c))\n",
    "print(set.difference(c, b, a))"
   ]
  },
  {
   "cell_type": "code",
   "execution_count": 19,
   "metadata": {},
   "outputs": [
    {
     "data": {
      "text/plain": [
       "{1, 3, 8}"
      ]
     },
     "execution_count": 19,
     "metadata": {},
     "output_type": "execute_result"
    }
   ],
   "source": [
    "set.symmetric_difference(set.symmetric_difference(a, b), c)"
   ]
  },
  {
   "cell_type": "code",
   "execution_count": 18,
   "metadata": {
    "scrolled": true
   },
   "outputs": [
    {
     "data": {
      "text/plain": [
       "{1, 3, 8}"
      ]
     },
     "execution_count": 18,
     "metadata": {},
     "output_type": "execute_result"
    }
   ],
   "source": [
    "d = set.symmetric_difference(a, b)\n",
    "set.symmetric_difference(d, c)"
   ]
  },
  {
   "cell_type": "code",
   "execution_count": 19,
   "metadata": {},
   "outputs": [
    {
     "name": "stdout",
     "output_type": "stream",
     "text": [
      "44\n"
     ]
    },
    {
     "data": {
      "text/plain": [
       "125"
      ]
     },
     "execution_count": 19,
     "metadata": {},
     "output_type": "execute_result"
    }
   ],
   "source": [
    "print(len(d))\n",
    "5**3"
   ]
  },
  {
   "cell_type": "markdown",
   "metadata": {},
   "source": [
    "#### Тема 3\n"
   ]
  },
  {
   "cell_type": "code",
   "execution_count": 47,
   "metadata": {},
   "outputs": [
    {
     "name": "stdout",
     "output_type": "stream",
     "text": [
      "a5 27\n",
      "b5 (5n = 10) -1.1111111111111112\n",
      "c5 = sqrt(10)-1    2.1622776601683795\n",
      "d5 1.04\n"
     ]
    }
   ],
   "source": [
    "# C. найти пятый по счету член.\n",
    "import numpy as np\n",
    "\n",
    "a5 = 2**5 - 5\n",
    "b5 = 10/(1-10)\n",
    "c5 = -1**5 + np.sqrt(2*5)\n",
    "d5 = (-1)**10+1/25\n",
    "\n",
    "print(\"a5\", a5)\n",
    "print(\"b5 (5n = 10)\", b5)\n",
    "print(\"c5 = sqrt(10)-1   \", c5) # https://www.wolframalpha.com/input/?i=-1**5+%2B+sqrt(2*5) \n",
    "print(\"d5\", d5)\n"
   ]
  },
  {
   "cell_type": "code",
   "execution_count": 24,
   "metadata": {},
   "outputs": [
    {
     "name": "stdout",
     "output_type": "stream",
     "text": [
      "2.6320853228463696\n"
     ]
    }
   ],
   "source": [
    "# 2. *На языке Python предложить алгоритм вычисляющий численно предел с точностью 10**(-7)\n",
    "# не решено\n",
    "import math\n",
    "E = 10**(-7)\n",
    "n = 100\n",
    "\n",
    "#while a<E is False: \n",
    "a = n/((math.factorial(n))**(1/n))\n",
    "\n",
    "    \n",
    "print(a)"
   ]
  },
  {
   "cell_type": "code",
   "execution_count": 19,
   "metadata": {},
   "outputs": [
    {
     "data": {
      "text/plain": [
       "1e-07"
      ]
     },
     "execution_count": 19,
     "metadata": {},
     "output_type": "execute_result"
    }
   ],
   "source": [
    "E\n",
    "\n",
    "    "
   ]
  },
  {
   "cell_type": "code",
   "execution_count": null,
   "metadata": {},
   "outputs": [],
   "source": []
  }
 ],
 "metadata": {
  "kernelspec": {
   "display_name": "Python 3",
   "language": "python",
   "name": "python3"
  },
  "language_info": {
   "codemirror_mode": {
    "name": "ipython",
    "version": 3
   },
   "file_extension": ".py",
   "mimetype": "text/x-python",
   "name": "python",
   "nbconvert_exporter": "python",
   "pygments_lexer": "ipython3",
   "version": "3.7.3"
  }
 },
 "nbformat": 4,
 "nbformat_minor": 2
}
