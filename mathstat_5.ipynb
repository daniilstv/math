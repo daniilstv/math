{
 "cells": [
  {
   "cell_type": "markdown",
   "metadata": {},
   "source": [
    "### Урок 5 \n",
    "Проверка статистических гипотез. P-значения. Доверительные интервалы. A/B-тестирование"
   ]
  },
  {
   "cell_type": "code",
   "execution_count": 35,
   "metadata": {},
   "outputs": [],
   "source": [
    "import numpy as np\n",
    "import pandas as pd\n",
    "from matplotlib import pyplot as plt\n",
    "from scipy import stats"
   ]
  },
  {
   "cell_type": "markdown",
   "metadata": {},
   "source": [
    "Задача 1\n",
    "Утверждается, что шарики для подшипников, изготовленные автоматическим станком, имеют средний диаметр 17 мм. Используя уровень значимости 0.025 и правостороннюю критическую область, проверить данную гипотезу при условии, что в выборке из 100 шариков средний диаметр оказался равным 17.5 мм, а дисперсия известна и равна 4 мм."
   ]
  },
  {
   "cell_type": "markdown",
   "metadata": {},
   "source": [
    "$H_0$ - шарики могут иметь средний диаметр 17мм\n",
    "\n",
    "$H_a$ - шарики имеют другой средний диаметр, больше 17мм\n",
    "* Правосторонняя область: $\\Omega_\\alpha = (t_{1 - \\alpha}, \\infty)$.\n",
    "\n"
   ]
  },
  {
   "cell_type": "code",
   "execution_count": 15,
   "metadata": {
    "scrolled": true
   },
   "outputs": [
    {
     "name": "stdout",
     "output_type": "stream",
     "text": [
      "[14.53902118 22.61116459 18.1563479  18.30629719 13.78241124 19.99343256\n",
      " 16.98728141 19.03097377 18.79109509 21.96254301 15.18193063 21.87616576\n",
      " 17.24983448 17.36732441 16.64104009 17.96656594 17.34273678 15.93146252\n",
      " 16.27419894 19.88645905 16.86885557 17.26058298 16.87341933 17.31507359\n",
      " 18.84697473 15.64897018 18.21977116 14.41358002 16.10348753 15.48946599\n",
      " 19.8194087  17.07353518 16.76506444 16.83130932 16.38641413 15.26296708\n",
      " 16.95790655 15.1081089  14.62660776 19.64801021 16.46539961 17.51937745\n",
      " 18.22082698 15.67235217 19.57635679 12.27358957 15.50952694 15.43093573\n",
      " 14.92065259 16.33722076 19.20638392 20.8770858  17.98488131 18.23921154\n",
      " 17.78078821 15.90191941 16.26975299 16.40856795 16.98197937 20.78485057\n",
      " 15.33269316 15.21147243 15.7075259  15.71341562 16.73368397 16.71435856\n",
      " 12.71413608 15.95267418 16.14320025 16.86404015 18.23406215 15.9109772\n",
      " 18.11954847 17.21047932 15.99352726 16.62351581 14.80464946 18.46957594\n",
      " 14.8950013  15.41892959 18.86071152 18.47170578 19.68374591 16.82682471\n",
      " 17.07412218 20.38128448 19.32495336 15.25531238 14.3435638  11.79350531\n",
      " 16.55617779 15.59509582 18.72616105 16.55961639 15.42945546 19.91707498\n",
      " 20.51146483 15.32619697 17.5264238  20.18410601]\n"
     ]
    },
    {
     "data": {
      "text/plain": [
       "(array([ 3.,  1.,  7., 23., 24., 17., 10.,  9.,  3.,  3.]),\n",
       " array([11.79350531, 12.87527123, 13.95703716, 15.03880309, 16.12056902,\n",
       "        17.20233495, 18.28410088, 19.36586681, 20.44763274, 21.52939866,\n",
       "        22.61116459]),\n",
       " <a list of 10 Patch objects>)"
      ]
     },
     "execution_count": 15,
     "metadata": {},
     "output_type": "execute_result"
    },
    {
     "data": {
      "image/png": "[encoded data removed]",
      "text/plain": [
       "<Figure size 432x288 with 1 Axes>"
      ]
     },
     "metadata": {
      "needs_background": "light"
     },
     "output_type": "display_data"
    }
   ],
   "source": [
    "H0 = 17\n",
    "Ha = 17.5\n",
    "Pa = 0.025\n",
    "n = 100\n",
    "Dx = 4\n",
    "\n",
    "\n",
    "sigma = np.sqrt(Dx)\n",
    "samples = np.random.normal(H0, sigma, size=n)\n",
    "print(samples)\n",
    "plt.hist(samples)"
   ]
  },
  {
   "cell_type": "markdown",
   "metadata": {},
   "source": [
    "В нашем случае статистика имеет вид:\n",
    "$$T(X) = \\dfrac{\\overline{X} - 17}{2 / 10} = 5 \\cdot (\\overline{X} - 17).$$\n",
    "$\\alpha = 0.025$.\n",
    "$$\\Omega_\\alpha =  (t_{1 - \\alpha/2}, \\infty).$$\n",
    "$$\\Omega_\\alpha =  (2, \\infty).$$\n"
   ]
  },
  {
   "cell_type": "code",
   "execution_count": 24,
   "metadata": {},
   "outputs": [
    {
     "data": {
      "text/plain": [
       "17.088744288885902"
      ]
     },
     "execution_count": 24,
     "metadata": {},
     "output_type": "execute_result"
    }
   ],
   "source": [
    "mean = samples.mean()\n",
    "mean"
   ]
  },
  {
   "cell_type": "code",
   "execution_count": 25,
   "metadata": {},
   "outputs": [
    {
     "name": "stdout",
     "output_type": "stream",
     "text": [
      "2.5\n",
      "Верна альтернативная гипотеза: шарики имеют другой средний диаметр, больше 17мм \n"
     ]
    }
   ],
   "source": [
    "Tx = 0\n",
    "Tx = 5 * (Ha - H0)\n",
    "\n",
    "stats = stats.norm.ppf(1 - Pa)\n",
    "\n",
    "print(Tx)\n",
    "if Tx >= stats:\n",
    "    print(\"Верна альтернативная гипотеза: шарики имеют другой средний диаметр, больше 17мм \")\n",
    "else:\n",
    "    print(\"Верна нулевая гипотеза: шарики могут иметь средний диаметр 17мм \") "
   ]
  },
  {
   "cell_type": "code",
   "execution_count": null,
   "metadata": {},
   "outputs": [],
   "source": []
  },
  {
   "cell_type": "markdown",
   "metadata": {},
   "source": [
    "Задача 2\n",
    "Известно, что генеральная совокупность распределена нормально с известным средним квадратическим отклонением 16. Найти доверительный интервал для оценки математического ожидания a с надёжностью 0.95, если выборочное среднее равно 80, а объём равен 256."
   ]
  },
  {
   "cell_type": "code",
   "execution_count": 31,
   "metadata": {},
   "outputs": [],
   "source": [
    "sigma = 16\n",
    "p = 0.95\n",
    "mean = 80\n",
    "n = 256\n",
    "#t = 2.2622"
   ]
  },
  {
   "cell_type": "markdown",
   "metadata": {},
   "source": [
    "из центральной предельной теоремы мы знаем, что распределение выборочного среднего достаточно похоже на нормальное распределение с параметрами $a = M(X)$ и $\\sigma = \\sqrt{\\dfrac{D(X)}{n}}$.\n",
    "\n",
    "Математическое ожидание и дисперсию можно теперь оценить, используя выборочное среднее `mean`. Зафиксируем теперь уровень доверия $p = 0.95$. Тогда доверительный интервал:"
   ]
  },
  {
   "cell_type": "code",
   "execution_count": 32,
   "metadata": {},
   "outputs": [
    {
     "data": {
      "text/plain": [
       "(78.8819660112501, 81.1180339887499)"
      ]
     },
     "execution_count": 32,
     "metadata": {},
     "output_type": "execute_result"
    }
   ],
   "source": [
    "(mean - 2 * np.sqrt(mean / n), mean + 2 * np.sqrt(mean / n))\n",
    "# Данный ответ справедлив для распределения Пуассона"
   ]
  },
  {
   "cell_type": "markdown",
   "metadata": {},
   "source": [
    "$$T(X) = \\dfrac{\\overline{X} - a}{\\sigma / \\sqrt{n}},$$"
   ]
  },
  {
   "cell_type": "code",
   "execution_count": 39,
   "metadata": {
    "scrolled": true
   },
   "outputs": [
    {
     "data": {
      "text/plain": [
       "1.959963984540054"
      ]
     },
     "execution_count": 39,
     "metadata": {},
     "output_type": "execute_result"
    }
   ],
   "source": [
    "alpha = 0.05\n",
    "\n",
    "t = stats.norm.ppf(1 - alpha / 2)\n",
    "t"
   ]
  },
  {
   "cell_type": "code",
   "execution_count": 38,
   "metadata": {},
   "outputs": [
    {
     "name": "stdout",
     "output_type": "stream",
     "text": [
      "Ответ для нормального распределения:\n",
      "Доверительный интервал от 78.04003601545995 до 81.95996398454005\n"
     ]
    }
   ],
   "source": [
    "print(\"Ответ для нормального распределения:\")\n",
    "dx = (mean - t * sigma / np.sqrt(n), mean + t * sigma / np.sqrt(n))\n",
    "print(\"Доверительный интервал от\", dx[0], \"до\",dx[1])"
   ]
  },
  {
   "cell_type": "code",
   "execution_count": 41,
   "metadata": {},
   "outputs": [
    {
     "data": {
      "text/plain": [
       "(78.04003601545995, 81.95996398454005)"
      ]
     },
     "execution_count": 41,
     "metadata": {},
     "output_type": "execute_result"
    }
   ],
   "source": [
    "# Проверка\n",
    "(80 - t, 80 + t)"
   ]
  },
  {
   "cell_type": "markdown",
   "metadata": {},
   "source": [
    "Задача 3\n",
    "\n",
    "Продавец утверждает, что средний вес пачки печенья составляет 200 г. Из партии извлечена выборка из 10 пачек. Вес каждой пачки составляет:\n",
    "\n",
    "202, 203, 199, 197, 195, 201, 200, 204, 194, 190\n",
    "\n",
    "Известно, что их веса распределены нормально. Верно ли утверждение продавца, если учитывать, что уровень значимости равен 1%?"
   ]
  },
  {
   "cell_type": "code",
   "execution_count": 42,
   "metadata": {},
   "outputs": [
    {
     "data": {
      "text/plain": [
       "(198.5, 4.453463071962462)"
      ]
     },
     "execution_count": 42,
     "metadata": {},
     "output_type": "execute_result"
    }
   ],
   "source": [
    "m_0 = 200\n",
    "n = 10\n",
    "samples = np.array([202, 203, 199, 197, 195, 201, 200, 204, 194, 190])\n",
    "p = 0.01\n",
    "mean = samples.mean()\n",
    "std = samples.std(ddof=1)\n",
    "mean, std"
   ]
  },
  {
   "cell_type": "code",
   "execution_count": 43,
   "metadata": {},
   "outputs": [
    {
     "data": {
      "text/plain": [
       "3.2498355440153697"
      ]
     },
     "execution_count": 43,
     "metadata": {},
     "output_type": "execute_result"
    }
   ],
   "source": [
    "alpha = 0.01\n",
    "\n",
    "t = stats.t.ppf(1 - alpha / 2, df=n - 1)\n",
    "t"
   ]
  },
  {
   "cell_type": "code",
   "execution_count": null,
   "metadata": {},
   "outputs": [],
   "source": []
  },
  {
   "cell_type": "code",
   "execution_count": 48,
   "metadata": {},
   "outputs": [
    {
     "name": "stdout",
     "output_type": "stream",
     "text": [
      "Доверительный интервал от 193.92322840036354 до 203.07677159963646\n"
     ]
    }
   ],
   "source": [
    "dx = (mean - t * std / np.sqrt(n), mean + t * std / np.sqrt(n))\n",
    "print(\"Доверительный интервал от\", dx[0], \"до\",dx[1])"
   ]
  },
  {
   "cell_type": "code",
   "execution_count": 49,
   "metadata": {},
   "outputs": [
    {
     "name": "stdout",
     "output_type": "stream",
     "text": [
      "Ответ: выборочное среднее 198.5 в доверительном интервале, следовательно подтверждаем гипотезу, \n",
      " что средний вес может составлять 200г\n"
     ]
    }
   ],
   "source": [
    "print(f\"Ответ: выборочное среднее {mean} в доверительном интервале, следовательно подтверждаем гипотезу, \\n что средний вес может составлять 200г\")"
   ]
  },
  {
   "cell_type": "code",
   "execution_count": 50,
   "metadata": {},
   "outputs": [
    {
     "data": {
      "text/plain": [
       "-1.0651074037450896"
      ]
     },
     "execution_count": 50,
     "metadata": {},
     "output_type": "execute_result"
    }
   ],
   "source": [
    "T = (mean- m_0) / (std / np.sqrt(n))\n",
    "T"
   ]
  },
  {
   "cell_type": "code",
   "execution_count": null,
   "metadata": {},
   "outputs": [],
   "source": []
  }
 ],
 "metadata": {
  "kernelspec": {
   "display_name": "Python 3",
   "language": "python",
   "name": "python3"
  },
  "language_info": {
   "codemirror_mode": {
    "name": "ipython",
    "version": 3
   },
   "file_extension": ".py",
   "mimetype": "text/x-python",
   "name": "python",
   "nbconvert_exporter": "python",
   "pygments_lexer": "ipython3",
   "version": "3.7.3"
  }
 },
 "nbformat": 4,
 "nbformat_minor": 2
}
