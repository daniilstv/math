{
 "cells": [
  {
   "cell_type": "markdown",
   "metadata": {},
   "source": [
    "### Урок 5 \n",
    "Проверка статистических гипотез. P-значения. Доверительные интервалы. A/B-тестирование"
   ]
  },
  {
   "cell_type": "code",
   "execution_count": 56,
   "metadata": {},
   "outputs": [],
   "source": [
    "import numpy as np\n",
    "import pandas as pd\n",
    "from matplotlib import pyplot as plt\n",
    "from scipy import stats"
   ]
  },
  {
   "cell_type": "markdown",
   "metadata": {},
   "source": [
    "Задача 1\n",
    "Утверждается, что шарики для подшипников, изготовленные автоматическим станком, имеют средний диаметр 17 мм. Используя уровень значимости 0.025 и правостороннюю критическую область, проверить данную гипотезу при условии, что в выборке из 100 шариков средний диаметр оказался равным 17.5 мм, а дисперсия известна и равна 4 мм."
   ]
  },
  {
   "cell_type": "markdown",
   "metadata": {},
   "source": [
    "$H_0$ - шарики могут иметь средний диаметр 17мм\n",
    "\n",
    "$H_a$ - шарики имеют другой средний диаметр, больше 17мм\n",
    "* Правосторонняя область: $\\Omega_\\alpha = (t_{1 - \\alpha}, \\infty)$.\n",
    "\n"
   ]
  },
  {
   "cell_type": "code",
   "execution_count": 60,
   "metadata": {
    "scrolled": true
   },
   "outputs": [
    {
     "name": "stdout",
     "output_type": "stream",
     "text": [
      "[16.93531813 20.03469081 15.82043399 14.63496092 16.11709216 14.62070427\n",
      " 13.82020238 17.87386377 14.29398792 19.25685166 16.31124346 17.91547821\n",
      " 17.44157319 16.4918998  17.86067331 19.01351799 13.44798311 20.09700753\n",
      " 20.19665051 22.17921549 16.1990757  17.11577471 15.89187188 16.79579231\n",
      " 16.98097956 15.8136654  16.7169549  15.49617615 13.47546184 17.09037519\n",
      " 17.86010615 17.54187037 13.38043418 16.17842242 14.46844056 12.65286788\n",
      " 17.72306468 20.11375673 16.5975047  14.10282154 17.60850956 17.6747227\n",
      " 17.17834749 18.38883505 17.70391977 21.37555535 19.49431654 18.86387213\n",
      " 17.47966561 16.29775713 17.51581418 17.43292836 17.75091828 18.72164966\n",
      " 13.44313478 17.17203062 15.23443608 21.54138963 18.18318211 18.25535335\n",
      " 19.71017181 11.67769604 18.22569122 17.01309788 18.15415064 15.49688232\n",
      " 16.45112207 14.77399965 17.50995067 15.73201724 19.09991073 15.01854642\n",
      " 13.38852424 18.63721261 14.44443555 15.04978622 14.38055498 21.67610546\n",
      " 18.75685877 19.94759147 15.3573125  15.95714568 22.09936453 17.21383311\n",
      " 13.4577815  16.24372319 18.90512594 16.37597821 21.05535022 14.79948346\n",
      " 16.95463868 11.47656534 18.31477473 18.41266609 17.65101587 19.5778476\n",
      " 18.83938748 16.90035446 16.02338856 16.24577428]\n"
     ]
    },
    {
     "data": {
      "text/plain": [
       "(array([ 2.,  7.,  8.,  9., 18., 25., 14.,  8.,  4.,  5.]),\n",
       " array([11.47656534, 12.54683035, 13.61709537, 14.68736038, 15.7576254 ,\n",
       "        16.82789041, 17.89815543, 18.96842044, 20.03868546, 21.10895047,\n",
       "        22.17921549]),\n",
       " <a list of 10 Patch objects>)"
      ]
     },
     "execution_count": 60,
     "metadata": {},
     "output_type": "execute_result"
    },
    {
     "data": {
      "image/png": "[encoded data removed]",
      "text/plain": [
       "<Figure size 432x288 with 1 Axes>"
      ]
     },
     "metadata": {
      "needs_background": "light"
     },
     "output_type": "display_data"
    }
   ],
   "source": [
    "H0 = 17\n",
    "Ha = 17.5\n",
    "Pa = 0.025\n",
    "n = 100\n",
    "Dx = 4\n",
    "\n",
    "\n",
    "sigma = np.sqrt(Dx)\n",
    "samples = np.random.normal(H0, sigma, size=n)\n",
    "print(samples)\n",
    "plt.hist(samples)"
   ]
  },
  {
   "cell_type": "markdown",
   "metadata": {},
   "source": [
    "В нашем случае статистика имеет вид:\n",
    "$$T(X) = \\dfrac{\\overline{X} - 17}{1 / 17,5} = 17,5 \\cdot (\\overline{X} - 17).$$\n",
    "$\\alpha = 0.025$.\n",
    "$$\\Omega_\\alpha =  (t_{1 - \\alpha/2}, \\infty).$$\n",
    "$$\\Omega_\\alpha =  (2, \\infty).$$\n"
   ]
  },
  {
   "cell_type": "code",
   "execution_count": 61,
   "metadata": {},
   "outputs": [
    {
     "data": {
      "text/plain": [
       "17.008809212182495"
      ]
     },
     "execution_count": 61,
     "metadata": {},
     "output_type": "execute_result"
    }
   ],
   "source": [
    "mean = samples.mean()\n",
    "mean"
   ]
  },
  {
   "cell_type": "code",
   "execution_count": 62,
   "metadata": {},
   "outputs": [
    {
     "name": "stdout",
     "output_type": "stream",
     "text": [
      "0.15416121319366205\n",
      "Верна нулевая гипотеза: шарики могут иметь средний диаметр 17мм \n"
     ]
    }
   ],
   "source": [
    "Tx = 0\n",
    "Tx = 17.5 * (mean - 17)\n",
    "print(Tx)\n",
    "if Tx >= sigma:\n",
    "    print(\"Верна альтернативная гипотеза: шарики имеют другой средний диаметр, больше 17мм \")\n",
    "else:\n",
    "    print(\"Верна нулевая гипотеза: шарики могут иметь средний диаметр 17мм \") "
   ]
  },
  {
   "cell_type": "code",
   "execution_count": 55,
   "metadata": {},
   "outputs": [
    {
     "data": {
      "text/plain": [
       "-1.9599639845400545"
      ]
     },
     "execution_count": 55,
     "metadata": {},
     "output_type": "execute_result"
    }
   ],
   "source": [
    "stats.norm.ppf(Pa )"
   ]
  },
  {
   "cell_type": "code",
   "execution_count": null,
   "metadata": {},
   "outputs": [],
   "source": []
  },
  {
   "cell_type": "markdown",
   "metadata": {},
   "source": [
    "Задача 2\n",
    "Известно, что генеральная совокупность распределена нормально с известным средним квадратическим отклонением 16. Найти доверительный интервал для оценки математического ожидания a с надёжностью 0.95, если выборочное среднее равно 80, а объём равен 256."
   ]
  },
  {
   "cell_type": "code",
   "execution_count": 66,
   "metadata": {},
   "outputs": [],
   "source": [
    "sigma = 16\n",
    "p = 0.95\n",
    "mean = 80\n",
    "n = 256\n",
    "#t = 2.2622"
   ]
  },
  {
   "cell_type": "markdown",
   "metadata": {},
   "source": [
    "из центральной предельной теоремы мы знаем, что распределение выборочного среднего достаточно похоже на нормальное распределение с параметрами $a = M(X)$ и $\\sigma = \\sqrt{\\dfrac{D(X)}{n}}$.\n",
    "\n",
    "Математическое ожидание и дисперсию можно теперь оценить, используя выборочное среднее `mean`. Зафиксируем теперь уровень доверия $p = 0.95$. Тогда доверительный интервал:"
   ]
  },
  {
   "cell_type": "code",
   "execution_count": 64,
   "metadata": {},
   "outputs": [
    {
     "data": {
      "text/plain": [
       "(78.8819660112501, 81.1180339887499)"
      ]
     },
     "execution_count": 64,
     "metadata": {},
     "output_type": "execute_result"
    }
   ],
   "source": [
    "(mean - 2 * np.sqrt(mean / n), mean + 2 * np.sqrt(mean / n))\n",
    "# Данный ответ справедлив для распределения Пуассона"
   ]
  },
  {
   "cell_type": "markdown",
   "metadata": {},
   "source": [
    "$$T(X) = \\dfrac{\\overline{X} - a}{\\sigma / \\sqrt{n}},$$"
   ]
  },
  {
   "cell_type": "code",
   "execution_count": 68,
   "metadata": {},
   "outputs": [
    {
     "data": {
      "text/plain": [
       "1.9693105698491928"
      ]
     },
     "execution_count": 68,
     "metadata": {},
     "output_type": "execute_result"
    }
   ],
   "source": [
    "alpha = 0.05\n",
    "\n",
    "t = stats.t.ppf(1 - alpha / 2, df=n - 1)\n",
    "t"
   ]
  },
  {
   "cell_type": "code",
   "execution_count": 75,
   "metadata": {},
   "outputs": [
    {
     "name": "stdout",
     "output_type": "stream",
     "text": [
      "Ответ для нормального распределения:\n",
      "Доверительный интервал от 78.0306894301508 до 81.9693105698492\n"
     ]
    }
   ],
   "source": [
    "print(\"Ответ для нормального распределения:\")\n",
    "dx = (mean - t * sigma / np.sqrt(n), mean + t * sigma / np.sqrt(n))\n",
    "print(\"Доверительный интервал от\", dx[0], \"до\",dx[1])"
   ]
  },
  {
   "cell_type": "code",
   "execution_count": null,
   "metadata": {},
   "outputs": [],
   "source": []
  },
  {
   "cell_type": "markdown",
   "metadata": {},
   "source": [
    "Задача 3\n",
    "\n",
    "Продавец утверждает, что средний вес пачки печенья составляет 200 г. Из партии извлечена выборка из 10 пачек. Вес каждой пачки составляет:\n",
    "\n",
    "202, 203, 199, 197, 195, 201, 200, 204, 194, 190\n",
    "\n",
    "Известно, что их веса распределены нормально. Верно ли утверждение продавца, если учитывать, что уровень значимости равен 1%?"
   ]
  },
  {
   "cell_type": "code",
   "execution_count": 94,
   "metadata": {},
   "outputs": [
    {
     "data": {
      "text/plain": [
       "(198.5, 4.453463071962462)"
      ]
     },
     "execution_count": 94,
     "metadata": {},
     "output_type": "execute_result"
    }
   ],
   "source": [
    "m_0 = 200\n",
    "n = 10\n",
    "samples = np.array([202, 203, 199, 197, 195, 201, 200, 204, 194, 190])\n",
    "p = 0.01\n",
    "mean = samples.mean()\n",
    "std = samples.std(ddof=1)\n",
    "mean, std"
   ]
  },
  {
   "cell_type": "code",
   "execution_count": 95,
   "metadata": {},
   "outputs": [
    {
     "data": {
      "text/plain": [
       "3.2498355440153697"
      ]
     },
     "execution_count": 95,
     "metadata": {},
     "output_type": "execute_result"
    }
   ],
   "source": [
    "alpha = 0.01\n",
    "\n",
    "t = stats.t.ppf(1 - alpha / 2, df=n - 1)\n",
    "t"
   ]
  },
  {
   "cell_type": "code",
   "execution_count": 98,
   "metadata": {},
   "outputs": [
    {
     "name": "stdout",
     "output_type": "stream",
     "text": [
      "Доверительный интервал от 195.42322840036354 до 204.57677159963646\n"
     ]
    }
   ],
   "source": [
    "dx = (m_0 - t * std / np.sqrt(n), m_0 + t * std / np.sqrt(n))\n",
    "print(\"Доверительный интервал от\", dx[0], \"до\",dx[1])"
   ]
  },
  {
   "cell_type": "code",
   "execution_count": 101,
   "metadata": {},
   "outputs": [
    {
     "name": "stdout",
     "output_type": "stream",
     "text": [
      "Ответ: выборочное среднее 198.5 в доверительном интервале, следовательно подтверждаем гипотезу, \n",
      " что средний вес может составлять 200г\n"
     ]
    }
   ],
   "source": [
    "print(f\"Ответ: выборочное среднее {mean} в доверительном интервале, следовательно подтверждаем гипотезу, \\n что средний вес может составлять 200г\")"
   ]
  },
  {
   "cell_type": "code",
   "execution_count": null,
   "metadata": {},
   "outputs": [],
   "source": []
  }
 ],
 "metadata": {
  "kernelspec": {
   "display_name": "Python 3",
   "language": "python",
   "name": "python3"
  },
  "language_info": {
   "codemirror_mode": {
    "name": "ipython",
    "version": 3
   },
   "file_extension": ".py",
   "mimetype": "text/x-python",
   "name": "python",
   "nbconvert_exporter": "python",
   "pygments_lexer": "ipython3",
   "version": "3.7.3"
  }
 },
 "nbformat": 4,
 "nbformat_minor": 2
}
