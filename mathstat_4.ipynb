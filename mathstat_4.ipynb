{
 "cells": [
  {
   "cell_type": "markdown",
   "metadata": {},
   "source": [
    "### Урок 4\n",
    "Непрерывные случайные величины. Функция распределения и плотность распределения вероятностей. Равномерное и нормальное распределение. Центральная предельная теорема"
   ]
  },
  {
   "cell_type": "code",
   "execution_count": 1,
   "metadata": {},
   "outputs": [],
   "source": [
    "import numpy as np\n",
    "import pandas as pd\n",
    "from matplotlib import pyplot as plt"
   ]
  },
  {
   "cell_type": "markdown",
   "metadata": {},
   "source": [
    "Задача 1\n",
    "\n",
    "О непрерывной равномерно распределенной случайной величине B известно, что ее дисперсия равна 0.2. Можно ли найти правую границу величины B и ее среднее значение зная, что левая граница равна 0.5? Если да, найдите ее.\n",
    "\n"
   ]
  },
  {
   "cell_type": "markdown",
   "metadata": {},
   "source": [
    "Математическое ожидание и дисперсия равномерного распределения:\n",
    "\n",
    "$$M(X) = \\dfrac{a + b}{2}, \\text{ } D(X) = \\dfrac{(b - a)^2}{12}.$$"
   ]
  },
  {
   "cell_type": "code",
   "execution_count": 21,
   "metadata": {},
   "outputs": [],
   "source": [
    "dx = 0.2\n",
    "a = 0.5"
   ]
  },
  {
   "cell_type": "code",
   "execution_count": null,
   "metadata": {},
   "outputs": [],
   "source": [
    "((b-a)**2)/12 = dx\n",
    "b**2 / 12 = dx + a**2 / 12 + 2a*b/12\n",
    "b = np.sqrt((dx + a**2 / 12 + 2a*b/12)*12)\n",
    "\n",
    "(b - a)**2 = dx*12\n",
    "b**2 - b + 0.25 = 2.4\n",
    "b**2 - b - 2.15 = 0\n",
    "\n",
    "D = b**2 + 4 * 2.15\n",
    "\n",
    "b = (1 + np.sqrt(D))/2\n"
   ]
  },
  {
   "cell_type": "code",
   "execution_count": 40,
   "metadata": {},
   "outputs": [
    {
     "name": "stdout",
     "output_type": "stream",
     "text": [
      "2.348140957827622 -1.348140957827622\n",
      "Правая граница величины B = 2.348140957827622\n",
      "Cреднее значение величины B = 1.424070478913811\n"
     ]
    }
   ],
   "source": [
    "D = b**2 + 4 * 2.15\n",
    "b1 = (1 + np.sqrt(D))/2\n",
    "b2 = (1 - np.sqrt(D))/2\n",
    "print(b1,b2)\n",
    "b = b1\n",
    "#b = np.sqrt((dx + a**2 / 12 + 2*a/12)*12)\n",
    "print(\"Правая граница величины B =\", b)\n",
    "print(\"Cреднее значение величины B =\", (a+b)/2 )"
   ]
  },
  {
   "cell_type": "code",
   "execution_count": null,
   "metadata": {},
   "outputs": [],
   "source": []
  },
  {
   "cell_type": "markdown",
   "metadata": {},
   "source": [
    "Задача 2\n",
    "\n",
    "На сколько сигм (средних квадратических отклонений) отклоняется рост человека, равный 190 см, от математического ожидания роста в популяции, в которой M(X) = 178 и D(X) = 25?\n",
    "\n"
   ]
  },
  {
   "cell_type": "markdown",
   "metadata": {},
   "source": [
    "сигма = корень из дисперсии."
   ]
  },
  {
   "cell_type": "code",
   "execution_count": 30,
   "metadata": {
    "scrolled": true
   },
   "outputs": [
    {
     "name": "stdout",
     "output_type": "stream",
     "text": [
      "Ответ: отклонение на 2.4 сигмы\n"
     ]
    }
   ],
   "source": [
    "x = 178 - 190\n",
    "sigma = np.sqrt(25)\n",
    "print(\"Ответ: отклонение на\", np.abs(x/sigma), \"сигмы\")\n",
    "\n"
   ]
  },
  {
   "cell_type": "code",
   "execution_count": null,
   "metadata": {},
   "outputs": [],
   "source": []
  },
  {
   "cell_type": "markdown",
   "metadata": {},
   "source": [
    "Задача 3\n",
    "\n",
    "Рост взрослого населения города X имеет нормальное распределение, причем, средний рост равен 174 см, а среднее квадратическое отклонение равно 8 см. Без использования сторонних библиотек (numpy, scipy, pandas и пр.) посчитайте, какова вероятность того, что случайным образом выбранный взрослый человек имеет рост:\n",
    "1. больше 182 см?\n",
    "2. больше 190 см?\n",
    "3. от 166 см до 190 см?\n",
    "4. от 166 см до 182 см?\n",
    "5. от 158 см до 190 см?\n",
    "6. не выше 150 см или не ниже 190 см?\n",
    "7. не выше 150 см или не ниже 198 см?\n",
    "8. ниже 166 см?\n",
    "\n",
    "Подсказка: всё необходимое для решения этого задания было в уроке 4.\n",
    "\n"
   ]
  },
  {
   "cell_type": "code",
   "execution_count": 43,
   "metadata": {},
   "outputs": [
    {
     "name": "stdout",
     "output_type": "stream",
     "text": [
      "1sigma 166 182\n",
      "2sigma 158 190\n",
      "3sigma 150 198\n"
     ]
    }
   ],
   "source": [
    "mx = 174\n",
    "sigma = 8\n",
    "print(\"1sigma\",mx-sigma,mx+sigma)\n",
    "print(\"2sigma\",mx-2*sigma,mx+2*sigma)\n",
    "print(\"3sigma\",mx-3*sigma,mx+3*sigma)"
   ]
  },
  {
   "cell_type": "markdown",
   "metadata": {},
   "source": [
    "Ответ: \n",
    "1 - 16%\n",
    "2 - 2,3%\n",
    "3 - 68+2,3 = 70,3%\n",
    "4 - 68%\n",
    "5 - 2,3+68 = 70,3%\n",
    "6 - 0,01+2,3 = 2,4%\n",
    "7 - 0,01 + 0,01 = 0,02%\n",
    "8 - 16%"
   ]
  },
  {
   "cell_type": "code",
   "execution_count": 44,
   "metadata": {},
   "outputs": [],
   "source": [
    "from scipy import stats\n",
    "cdf = lambda x : stats.norm.cdf(x,mx,sigma)"
   ]
  },
  {
   "cell_type": "code",
   "execution_count": 59,
   "metadata": {},
   "outputs": [
    {
     "data": {
      "image/png": "[encoded data removed]",
      "text/latex": [
       "$$0.15865525393145707$$"
      ],
      "text/plain": [
       "0.15865525393145707"
      ]
     },
     "execution_count": 59,
     "metadata": {},
     "output_type": "execute_result"
    }
   ],
   "source": [
    "#1 - cdf(182)\n",
    "#1 - cdf(190)\n",
    "#1 - cdf(198)\n",
    "cdf(166)"
   ]
  },
  {
   "cell_type": "code",
   "execution_count": 58,
   "metadata": {},
   "outputs": [
    {
     "data": {
      "image/png": "[encoded data removed]",
      "text/latex": [
       "$$0.0241000299798093$$"
      ],
      "text/plain": [
       "0.0241000299798093"
      ]
     },
     "execution_count": 58,
     "metadata": {},
     "output_type": "execute_result"
    }
   ],
   "source": [
    "1 - cdf(190) + cdf(150) "
   ]
  },
  {
   "cell_type": "markdown",
   "metadata": {},
   "source": [
    "#### Задача 4 (на подумать)\n",
    "\n",
    "Каким образом связаны между собой понятие квантиля и правила двух и трёх сигм?\n",
    "\n",
    "Данное задание - на подумать, оформлять его не обязательно. Этот вопрос мы обсудим в начале следующего занятия."
   ]
  },
  {
   "cell_type": "markdown",
   "metadata": {},
   "source": [
    "#### Ответ:\n",
    "Квантиль указывает с какой вероятностью величина принимает заданное значение. Квантиль (вероятность) в процентах - это персентиль.\n",
    "Сигма показывает разброс величин, значение отклонения от среднего. \n",
    "При нормальном распределении для двух сигм персентиль равен 95,45%; для трех - 99,73% , квантиль для трех сигм равен 0,9973."
   ]
  },
  {
   "cell_type": "code",
   "execution_count": null,
   "metadata": {},
   "outputs": [],
   "source": []
  }
 ],
 "metadata": {
  "kernelspec": {
   "display_name": "Python 3",
   "language": "python",
   "name": "python3"
  },
  "language_info": {
   "codemirror_mode": {
    "name": "ipython",
    "version": 3
   },
   "file_extension": ".py",
   "mimetype": "text/x-python",
   "name": "python",
   "nbconvert_exporter": "python",
   "pygments_lexer": "ipython3",
   "version": "3.7.3"
  }
 },
 "nbformat": 4,
 "nbformat_minor": 2
}
