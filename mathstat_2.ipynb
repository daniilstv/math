{
 "cells": [
  {
   "cell_type": "markdown",
   "metadata": {},
   "source": [
    "#### Урок 2. \n",
    "Дискретные случайные величины. Закон распределения вероятностей. Биномиальный закон распределения. Распределение Пуассона\n",
    "Дьяченко Даниил"
   ]
  },
  {
   "cell_type": "code",
   "execution_count": 6,
   "metadata": {},
   "outputs": [],
   "source": [
    "import numpy as np\n",
    "import pandas as pd\n",
    "from matplotlib import pyplot as plt"
   ]
  },
  {
   "cell_type": "markdown",
   "metadata": {},
   "source": [
    "#### Задача 1\n",
    "\n",
    "Контрольная работа состоит из пяти вопросов. На каждый вопрос приведено четыре варианта ответа, один из которых правильный. Составьте закон распределения числа правильных ответов при простом угадывании. Найдите M(X), D(X).\n",
    "\n"
   ]
  },
  {
   "cell_type": "code",
   "execution_count": 89,
   "metadata": {},
   "outputs": [],
   "source": [
    "k = 4 # четыре варианта ответа\n",
    "p = 0.25 # вероятность - 1/4\n",
    "n = 5 # количество испытаний - Контрольная работа состоит из пяти вопросов"
   ]
  },
  {
   "cell_type": "code",
   "execution_count": 106,
   "metadata": {},
   "outputs": [
    {
     "name": "stdout",
     "output_type": "stream",
     "text": [
      "5 - число вариантов исхода событий - сочетаний ответов\n"
     ]
    }
   ],
   "source": [
    "def combinations(n, k): # число сочетаний\n",
    "    return np.math.factorial(n) // (np.math.factorial(k) * np.math.factorial(n - k))\n",
    "\n",
    "print(combinations(n,k), \"- число вариантов исхода событий - сочетаний ответов\")"
   ]
  },
  {
   "cell_type": "code",
   "execution_count": 107,
   "metadata": {},
   "outputs": [],
   "source": [
    "def bernulli(n, x, p): # определение вероятности наступления события Х по Бернулли\n",
    "    return combinations(n,x) * (p**x) * ((1 - p)**(n-x))"
   ]
  },
  {
   "cell_type": "code",
   "execution_count": 115,
   "metadata": {},
   "outputs": [
    {
     "name": "stdout",
     "output_type": "stream",
     "text": [
      "Вероятность 0 правильных ответов составляет 0.2373046875\n",
      "Вероятность 1 правильных ответов составляет 0.3955078125\n",
      "Вероятность 2 правильных ответов составляет 0.263671875\n",
      "Вероятность 3 правильных ответов составляет 0.087890625\n",
      "Вероятность 4 правильных ответов составляет 0.0146484375\n",
      "Полная вероятность всех комбинаций - 0.9990234375\n"
     ]
    }
   ],
   "source": [
    "a = 0\n",
    "for i in range(combinations(n,k)):\n",
    "    a = a + bernulli(n,i,p)\n",
    "    print(f\"Вероятность {i} правильных ответов составляет {bernulli(n,i,p)}\")\n",
    "\n",
    "print(\"Полная вероятность всех комбинаций -\", a)\n",
    "# вероятно, накопление ошибки при делении"
   ]
  },
  {
   "cell_type": "code",
   "execution_count": 121,
   "metadata": {},
   "outputs": [
    {
     "name": "stdout",
     "output_type": "stream",
     "text": [
      "мат. ожидание M(X) = 1.25\n",
      "дисперсия D(X) = 0.9375\n"
     ]
    }
   ],
   "source": [
    "print(\"мат. ожидание M(X) =\", n*p)\n",
    "print(\"дисперсия D(X) =\", n*p*(1-p))\n",
    "\n"
   ]
  },
  {
   "cell_type": "code",
   "execution_count": null,
   "metadata": {},
   "outputs": [],
   "source": []
  },
  {
   "cell_type": "markdown",
   "metadata": {},
   "source": [
    "#### Задача 2\n",
    "\n",
    "Вероятность попадания в цель при одном выстреле равна 0.01. Какова вероятность того, что число попаданий при 200 выстрелах будет не менее 5 и не более 10?\n",
    "\n"
   ]
  },
  {
   "cell_type": "code",
   "execution_count": 142,
   "metadata": {},
   "outputs": [],
   "source": [
    "p = 0.01 # Вероятность попадания в цель при одном выстреле равна 0.01\n",
    "n = 200 # количество испытаний\n"
   ]
  },
  {
   "cell_type": "code",
   "execution_count": 143,
   "metadata": {},
   "outputs": [],
   "source": [
    "def bernulli(n, x, p): # определение вероятности наступления события Х по Бернулли\n",
    "    return combinations(n,x) * (p**x) * ((1 - p)**(n-x))"
   ]
  },
  {
   "cell_type": "code",
   "execution_count": 155,
   "metadata": {},
   "outputs": [
    {
     "name": "stdout",
     "output_type": "stream",
     "text": [
      "Вероятность попасть 5 раз составляет 0.03572335672160829\n",
      "Вероятность попасть 6 раз составляет 0.011727364580325954\n",
      "Вероятность попасть 7 раз составляет 0.0032829851783307863\n",
      "Вероятность попасть 8 раз составляет 0.0008000203780528306\n",
      "Вероятность попасть 9 раз составляет 0.000172394963620812\n",
      "Вероятность попасть 10 раз составляет 3.326003843593443e-05\n",
      "Общая вероятность попасть от 5 до 10 раз составляет 0.051739381860374606\n"
     ]
    }
   ],
   "source": [
    "# число попаданий от 5 до 10 - число комбинаций от 5Х до 10Х. Вероятности складываются.\n",
    "\n",
    "a = 0\n",
    "b = 0\n",
    "for i in range(5,11):\n",
    "    \n",
    "    b = bernulli(n,i,p)\n",
    "    a = a + b\n",
    "    print(f\"Вероятность попасть {i} раз составляет {b}\")\n",
    "print(f\"Общая вероятность попасть от 5 до 10 раз составляет {a}\")\n"
   ]
  },
  {
   "cell_type": "code",
   "execution_count": null,
   "metadata": {},
   "outputs": [],
   "source": []
  },
  {
   "cell_type": "code",
   "execution_count": 151,
   "metadata": {},
   "outputs": [],
   "source": [
    "def puasson(n, k, p): # определение вероятности наступления события Х по Пуассону\n",
    "    a = n*p\n",
    "    \n",
    "    return (a**k)*(np.e**(-a)) / np.math.factorial(k)"
   ]
  },
  {
   "cell_type": "code",
   "execution_count": 157,
   "metadata": {
    "scrolled": true
   },
   "outputs": [
    {
     "name": "stdout",
     "output_type": "stream",
     "text": [
      "Вероятность попасть 5 раз составляет 0.03608940886309672\n",
      "Вероятность попасть 6 раз составляет 0.012029802954365574\n",
      "Вероятность попасть 7 раз составляет 0.0034370865583901638\n",
      "Вероятность попасть 8 раз составляет 0.0008592716395975409\n",
      "Вероятность попасть 9 раз составляет 0.00019094925324389798\n",
      "Вероятность попасть 10 раз составляет 3.8189850648779595e-05\n",
      "Общая вероятность попасть от 5 до 10 раз составляет 0.052644709119342686\n"
     ]
    }
   ],
   "source": [
    "# число попаданий от 5 до 10 - число комбинаций от 5Х до 10Х. Вероятности складываются.\n",
    "# Учитывая большое количество испытаний и малую вероятность события, попробуем посчитать через Пуассона\n",
    "a = 0\n",
    "b = 0\n",
    "for i in range(5,11):\n",
    "    \n",
    "    b = puasson(n,i,p)\n",
    "    a = a + b\n",
    "    print(f\"Вероятность попасть {i} раз составляет {b}\")\n",
    "print(f\"Общая вероятность попасть от 5 до 10 раз составляет {a}\")\n",
    "\n",
    "# Расчеты по Пуассону и пл Бернулли достаточно близки"
   ]
  },
  {
   "cell_type": "code",
   "execution_count": null,
   "metadata": {},
   "outputs": [],
   "source": []
  },
  {
   "cell_type": "markdown",
   "metadata": {},
   "source": [
    "Задача 3\n",
    "\n",
    "В условиях предыдущей задачи сколько выстрелов нужно сделать чтобы быть уверенным с вероятностью 0.9, что хотя бы 10 раз будет совершено попадание?\n",
    "\n",
    "Подсказка. Как посчитать P(X >= k) для величины X, имеющей распределение Пуассона? Здесь предстоит немножко покодить."
   ]
  },
  {
   "cell_type": "code",
   "execution_count": 172,
   "metadata": {},
   "outputs": [],
   "source": [
    "p = 0.01 # Вероятность попадания в цель при одном выстреле равна 0.01\n",
    "n = 200 # количество испытаний\n",
    "x = puasson(n,10,p) # вероятность попадания 10 раз\n",
    "\n",
    "def puasson(n, k, p): # определение вероятности наступления события Х по Пуассону\n",
    "    a = n*p    \n",
    "    return (a**k)*(np.e**(-a)) / np.math.factorial(k)"
   ]
  },
  {
   "cell_type": "code",
   "execution_count": 173,
   "metadata": {},
   "outputs": [],
   "source": [
    "def all_p(n): # определение суммы вероятностей по кол-ву выстрелов\n",
    "    p_all = 0\n",
    "    z = 0\n",
    "    for i in range(10, n+1):\n",
    "        z = puasson(n,i,p)\n",
    "        p_all += z\n",
    "        if z < 10**(-10):\n",
    "            break \n",
    "    return p_all"
   ]
  },
  {
   "cell_type": "code",
   "execution_count": 174,
   "metadata": {},
   "outputs": [
    {
     "name": "stdout",
     "output_type": "stream",
     "text": [
      "Количество выстрелов 1421 при вероятности 0.9001760722801241\n"
     ]
    }
   ],
   "source": [
    "n = 10 # кол-во выстрелов 10 и более\n",
    "z = 0\n",
    "while z <= 0.9:\n",
    "    n += 1\n",
    "    z = all_p(n)\n",
    "    \n",
    "print(f\"Количество выстрелов {n} при вероятности {z}\")"
   ]
  },
  {
   "cell_type": "code",
   "execution_count": null,
   "metadata": {},
   "outputs": [],
   "source": []
  }
 ],
 "metadata": {
  "kernelspec": {
   "display_name": "Python 3",
   "language": "python",
   "name": "python3"
  },
  "language_info": {
   "codemirror_mode": {
    "name": "ipython",
    "version": 3
   },
   "file_extension": ".py",
   "mimetype": "text/x-python",
   "name": "python",
   "nbconvert_exporter": "python",
   "pygments_lexer": "ipython3",
   "version": "3.7.3"
  }
 },
 "nbformat": 4,
 "nbformat_minor": 2
}
