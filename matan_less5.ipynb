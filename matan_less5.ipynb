{
 "cells": [
  {
   "cell_type": "markdown",
   "metadata": {},
   "source": [
    "#### Найти предел функции"
   ]
  },
  {
   "cell_type": "code",
   "execution_count": null,
   "metadata": {},
   "outputs": [],
   "source": [
    "1.\n",
    "\n",
    "(23 − 2𝑥**)(3𝑥**2 + 17)**2 = (23 − 2𝑥**)(9𝑥**4 + 289) = -18x**6 + 207x**4 - 578x**2 + 6647\n",
    "\n",
    "(-18x**6 + 207x**4 - 578x**2 + 6647)/ (4x**6+x-1) = -18/4 = -4.5 = -4+1/2\n"
   ]
  },
  {
   "cell_type": "code",
   "execution_count": null,
   "metadata": {},
   "outputs": [],
   "source": [
    "2.\n",
    "\n",
    "-8x**3 / 18x**3 = -4/9"
   ]
  },
  {
   "cell_type": "code",
   "execution_count": null,
   "metadata": {},
   "outputs": [],
   "source": [
    "3.\n",
    "\n",
    "(2x**3 + 13x**2 + 18x) / -x*4x**2 = - 2x**3 / 4x**3 = -1/2"
   ]
  },
  {
   "cell_type": "code",
   "execution_count": null,
   "metadata": {},
   "outputs": [],
   "source": [
    "4.\n",
    "\n",
    "(6**2 - 36 )/( 36 - 6 - 30) = 0 / 0 = 1"
   ]
  },
  {
   "cell_type": "code",
   "execution_count": null,
   "metadata": {},
   "outputs": [],
   "source": [
    "5. \n",
    "\n",
    "(49 - 49)/(49 - 91 + 42) = 0 / 0 = 1"
   ]
  },
  {
   "cell_type": "code",
   "execution_count": null,
   "metadata": {},
   "outputs": [],
   "source": [
    "6.*\n",
    "pass"
   ]
  },
  {
   "cell_type": "code",
   "execution_count": null,
   "metadata": {},
   "outputs": [],
   "source": [
    "7.\n",
    "\n",
    "3x*4x/1-cos(x) = 24x/4x**2 = 8/x**2 = 0"
   ]
  },
  {
   "cell_type": "code",
   "execution_count": null,
   "metadata": {},
   "outputs": [],
   "source": [
    "8.**\n",
    "pass"
   ]
  },
  {
   "cell_type": "code",
   "execution_count": null,
   "metadata": {},
   "outputs": [],
   "source": [
    "9. \n",
    "\n",
    "(1+4x/3)** 4x/3 * 3/4x * ((5x**2)/(7x-1)) = e**( 3/4x * ((5x**2)/(7x-1)) ) = e**(15x**2 / 28x**2) = \n",
    "= e**(15/28)"
   ]
  },
  {
   "cell_type": "code",
   "execution_count": null,
   "metadata": {},
   "outputs": [],
   "source": [
    "10.*\n",
    "pass"
   ]
  },
  {
   "cell_type": "code",
   "execution_count": null,
   "metadata": {},
   "outputs": [],
   "source": [
    "11.\n",
    "\n",
    "(5**x - 1)/x = 0"
   ]
  }
 ],
 "metadata": {
  "kernelspec": {
   "display_name": "Python 3",
   "language": "python",
   "name": "python3"
  },
  "language_info": {
   "codemirror_mode": {
    "name": "ipython",
    "version": 3
   },
   "file_extension": ".py",
   "mimetype": "text/x-python",
   "name": "python",
   "nbconvert_exporter": "python",
   "pygments_lexer": "ipython3",
   "version": "3.7.3"
  }
 },
 "nbformat": 4,
 "nbformat_minor": 2
}
