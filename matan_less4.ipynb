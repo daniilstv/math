{
 "cells": [
  {
   "cell_type": "code",
   "execution_count": 56,
   "metadata": {},
   "outputs": [],
   "source": [
    "from matplotlib import pyplot as plt\n",
    "import numpy as np\n",
    "from sympy import *"
   ]
  },
  {
   "cell_type": "markdown",
   "metadata": {},
   "source": [
    "#### Тема “Предел функции”"
   ]
  },
  {
   "cell_type": "markdown",
   "metadata": {},
   "source": [
    "1. Предложить пример функции, не имеющей предела в нуле и в бесконечностях.\n",
    "\n",
    "y = f(x)\n",
    "\n",
    "y = f(x+n)"
   ]
  },
  {
   "cell_type": "code",
   "execution_count": 61,
   "metadata": {},
   "outputs": [
    {
     "name": "stdout",
     "output_type": "stream",
     "text": [
      "Функция не имеет определения в точке x = 0, но стремится к 0 в окрестностях\n"
     ]
    },
    {
     "data": {
      "image/png": "[encoded data removed]",
      "text/plain": [
       "<Figure size 432x288 with 1 Axes>"
      ]
     },
     "metadata": {
      "needs_background": "light"
     },
     "output_type": "display_data"
    }
   ],
   "source": [
    "# 2. Привести пример функции, не имеющей предела в точке, но определенной в ней.\n",
    "x = np.linspace(-3, 3, 100)\n",
    "y = np.sign(x)\n",
    "#y = 1/x\n",
    "\n",
    "\n",
    "plt.plot(x, y)\n",
    "plt.grid(True)\n",
    "print(\"Функция не имеет определения в точке x = 0, но стремится к 0 в окрестностях\")"
   ]
  },
  {
   "cell_type": "markdown",
   "metadata": {},
   "source": [
    "3. Исследовать функцию  по плану:\n",
    "\n",
    "f(x) = x**3 - x**2\n",
    "\n",
    "https://www.wolframalpha.com/input/?i=x**3+-+x**2"
   ]
  },
  {
   "cell_type": "code",
   "execution_count": 3,
   "metadata": {},
   "outputs": [],
   "source": [
    "#3.a Область задания и область значений.\n",
    "\n",
    "область задания - вещественные числа\n",
    "\n",
    "область значений -  вещественные числа\n",
    "\n",
    "#3.b Нули функции и их кратность.\n",
    "нули при x = 0 и x = 1\n",
    "\n",
    "#3.c Отрезки знакопостоянства.\n",
    "положительные значения при x > 1\n",
    "отрицательные значения при x < 0 и 0 < x < 1\n",
    "\n",
    "#3.d Интервалы монотонности.\n",
    "от 0 до -oo монотонно убывает \n",
    "от 2/3 до oo монотонно возрастает \n",
    "\n",
    "\n",
    "#3.e Четность функции.\n",
    "не четная, не нечетная\n",
    "\n",
    "#3.f Ограниченность.\n",
    "не ограничена. Имеет локальный максимум в x = 0 и локальный минимум в x = 2/3\n",
    "\n",
    "#3.g Периодичность.\n",
    "не периодична\n"
   ]
  },
  {
   "cell_type": "code",
   "execution_count": 51,
   "metadata": {},
   "outputs": [
    {
     "data": {
      "image/png": "[encoded data removed]",
      "text/plain": [
       "<Figure size 432x288 with 1 Axes>"
      ]
     },
     "metadata": {
      "needs_background": "light"
     },
     "output_type": "display_data"
    }
   ],
   "source": [
    "x = np.linspace(-0.5, 1, 100)\n",
    "y = x**3 - x**2\n",
    "plt.plot(x, y, )\n",
    "plt.grid(True)"
   ]
  },
  {
   "cell_type": "code",
   "execution_count": null,
   "metadata": {},
   "outputs": [],
   "source": [
    "4. Найти предел\n",
    "\n",
    "4.a 3x-1/2 = -1/2\n",
    "предел -1/2\n",
    "\n",
    "4.b \n",
    "a=>1\n",
    "(a-1)/(a**1/3-1) = 0/(-1)\n",
    "предел 0\n",
    "\n",
    "4.c \n",
    "(x/x + 3/x)**(4x+1) = (1+3/x)**(4x+1) \n",
    "Второй замечательный предел\n",
    "(1**oo) = e**(3*4) = e**12"
   ]
  },
  {
   "cell_type": "code",
   "execution_count": 58,
   "metadata": {},
   "outputs": [
    {
     "data": {
      "image/png": "[encoded data removed]",
      "text/latex": [
       "$$- \\frac{1}{2}$$"
      ],
      "text/plain": [
       "-1/2"
      ]
     },
     "execution_count": 58,
     "metadata": {},
     "output_type": "execute_result"
    }
   ],
   "source": [
    "x = symbols('x')\n",
    "init_printing(use_unicode=True)\n",
    "\n",
    "limit( (3*(x**3)-2*(x**2))/(4*x**2), x, 0)"
   ]
  },
  {
   "cell_type": "markdown",
   "metadata": {},
   "source": [
    "#### Тема “Теоремы о пределах”"
   ]
  },
  {
   "cell_type": "code",
   "execution_count": null,
   "metadata": {},
   "outputs": [],
   "source": [
    "1.a Первый замечательный предел\n",
    "(0/0) = 1\n",
    "sin(2*x)/(2*2x) = 1/2\n",
    "\n",
    "1.b Первый замечательный предел\n",
    "x/sin(x) = 1\n",
    "\n",
    "1.c \n",
    "x/arcsin(x) = 1\n",
    "\n",
    "1.d\n",
    "(1+(6/(4*x)-3)**(6*x) = e **(6/(4*x)-3)*(6*x) = e ** (6*6/4) = \n",
    "= e ** 9\n",
    " \n",
    "1.e\n",
    "(sin(x) + ln(x))/x = sin(x)/x + ln(x)/x = 0 + 0 = 1\n",
    " \n",
    "1.f \n",
    "(sin(x) - ln(x))/x = sin(x)/x - ln(x)/x = 0 - 0 = 1\n",
    "\n",
    "\n",
    "\n"
   ]
  }
 ],
 "metadata": {
  "kernelspec": {
   "display_name": "Python 3",
   "language": "python",
   "name": "python3"
  },
  "language_info": {
   "codemirror_mode": {
    "name": "ipython",
    "version": 3
   },
   "file_extension": ".py",
   "mimetype": "text/x-python",
   "name": "python",
   "nbconvert_exporter": "python",
   "pygments_lexer": "ipython3",
   "version": "3.7.3"
  }
 },
 "nbformat": 4,
 "nbformat_minor": 2
}
