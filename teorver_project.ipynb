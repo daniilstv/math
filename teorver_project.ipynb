{
 "cells": [
  {
   "cell_type": "markdown",
   "metadata": {},
   "source": [
    "### Проектная работа\n",
    "* Темы:\n",
    "    1. Описательная статистика (статистические характеристики, графики, взаимосвязь величин, дисперсионный и факторный анализ)\n",
    "    2. Предиктивная аналитика (линейная регрессия, логистическая регрессия)"
   ]
  },
  {
   "cell_type": "markdown",
   "metadata": {},
   "source": [
    "#### Работа: Оценка зависимости бизнес-результата от своевременности работы с задачами \n",
    "Контекст: сотрудники получают задачи с потенциальными сделками. После получения задачи в течение заданного времени сотрудник должен сформировать подзадачи, соответствующие сделкам. Подзадачи должны перейти в статус заключенных или несостоявшихся сделок. Есть признак того, что заданное время было просрочено. Гипотеза – если сотрудник берёт задачи в работу и формирует подзадачи в срок, то его доля заключенных сделок выше.\n",
    "Признак: доля задач, взятых в работу в срок. Переменная: доля заключенных сделок. Возможно, стоит проверить на зависимость от количества потенциальных сделок - на случай, если «хорошим» сотрудникам поступает больше сделок в работу.\n",
    "Цель работы – проверить, влияет ли дисциплина (своевременное взятие задач в работу) на результат."
   ]
  },
  {
   "cell_type": "markdown",
   "metadata": {},
   "source": [
    "Расчет показал, что зависимости между параметром своевременного взятия задач в работу и результативностью при заключении сделок нет. Коэффициент корреляции 0,06.\n",
    "Для бизнеса это означает, что не имеет смысла отслеживать своевременность как показатель, контролировать по этому параметру сотрудников. Возможно стоит от него отказаться.\n",
    "\n",
    "В учебных целях на данных был проведен расчет линейной регрессии, дисперсионный анализ, факторный анализ."
   ]
  },
  {
   "cell_type": "code",
   "execution_count": 2,
   "metadata": {},
   "outputs": [],
   "source": [
    "import pandas as pd\n",
    "import matplotlib.pyplot as plt\n",
    "from scipy import stats\n",
    "import numpy as np"
   ]
  },
  {
   "cell_type": "markdown",
   "metadata": {},
   "source": [
    "##### Загрузка и обработка обезличенного датасета "
   ]
  },
  {
   "cell_type": "code",
   "execution_count": 3,
   "metadata": {},
   "outputs": [
    {
     "data": {
      "text/html": [
       "<div>\n",
       "<style scoped>\n",
       "    .dataframe tbody tr th:only-of-type {\n",
       "        vertical-align: middle;\n",
       "    }\n",
       "\n",
       "    .dataframe tbody tr th {\n",
       "        vertical-align: top;\n",
       "    }\n",
       "\n",
       "    .dataframe thead th {\n",
       "        text-align: right;\n",
       "    }\n",
       "</style>\n",
       "<table border=\"1\" class=\"dataframe\">\n",
       "  <thead>\n",
       "    <tr style=\"text-align: right;\">\n",
       "      <th></th>\n",
       "      <th>ID</th>\n",
       "      <th>BEGIN_DT</th>\n",
       "      <th>END_DT</th>\n",
       "      <th>CREATE_DT</th>\n",
       "      <th>FIRST_ISSUE_CREATE_DT</th>\n",
       "      <th>FIRST_CLOSE_DT</th>\n",
       "      <th>ISSUE_STAGE_NAME</th>\n",
       "      <th>EXPIRED</th>\n",
       "      <th>TB_NAME_ISU</th>\n",
       "      <th>USER_ID</th>\n",
       "      <th>COUNT_SUB_ISSUE</th>\n",
       "      <th>COUNT_DEAL</th>\n",
       "      <th>EXPIRED_MARK</th>\n",
       "      <th>CANCEL_ACCEPT_MARK</th>\n",
       "    </tr>\n",
       "  </thead>\n",
       "  <tbody>\n",
       "    <tr>\n",
       "      <th>0</th>\n",
       "      <td>25923</td>\n",
       "      <td>21.10.19</td>\n",
       "      <td>27.09.19</td>\n",
       "      <td>20.09.19</td>\n",
       "      <td>08.10.19</td>\n",
       "      <td>NaN</td>\n",
       "      <td>В работе</td>\n",
       "      <td>Просрочено</td>\n",
       "      <td>Среднерусский банк</td>\n",
       "      <td>720030</td>\n",
       "      <td>1</td>\n",
       "      <td>0</td>\n",
       "      <td>1</td>\n",
       "      <td>0</td>\n",
       "    </tr>\n",
       "    <tr>\n",
       "      <th>1</th>\n",
       "      <td>25722</td>\n",
       "      <td>21.10.19</td>\n",
       "      <td>27.09.19</td>\n",
       "      <td>20.09.19</td>\n",
       "      <td>08.10.19</td>\n",
       "      <td>NaN</td>\n",
       "      <td>В работе</td>\n",
       "      <td>Просрочено</td>\n",
       "      <td>Среднерусский банк</td>\n",
       "      <td>3194418</td>\n",
       "      <td>1</td>\n",
       "      <td>0</td>\n",
       "      <td>1</td>\n",
       "      <td>0</td>\n",
       "    </tr>\n",
       "    <tr>\n",
       "      <th>2</th>\n",
       "      <td>25787</td>\n",
       "      <td>17.10.19</td>\n",
       "      <td>27.09.19</td>\n",
       "      <td>20.09.19</td>\n",
       "      <td>08.10.19</td>\n",
       "      <td>NaN</td>\n",
       "      <td>В работе</td>\n",
       "      <td>Просрочено</td>\n",
       "      <td>Среднерусский банк</td>\n",
       "      <td>3194418</td>\n",
       "      <td>1</td>\n",
       "      <td>0</td>\n",
       "      <td>1</td>\n",
       "      <td>0</td>\n",
       "    </tr>\n",
       "    <tr>\n",
       "      <th>3</th>\n",
       "      <td>25650</td>\n",
       "      <td>17.10.19</td>\n",
       "      <td>27.09.19</td>\n",
       "      <td>20.09.19</td>\n",
       "      <td>08.10.19</td>\n",
       "      <td>NaN</td>\n",
       "      <td>В работе</td>\n",
       "      <td>Просрочено</td>\n",
       "      <td>Среднерусский банк</td>\n",
       "      <td>1266400</td>\n",
       "      <td>1</td>\n",
       "      <td>0</td>\n",
       "      <td>1</td>\n",
       "      <td>0</td>\n",
       "    </tr>\n",
       "    <tr>\n",
       "      <th>4</th>\n",
       "      <td>25849</td>\n",
       "      <td>17.10.19</td>\n",
       "      <td>27.09.19</td>\n",
       "      <td>20.09.19</td>\n",
       "      <td>08.10.19</td>\n",
       "      <td>NaN</td>\n",
       "      <td>В работе</td>\n",
       "      <td>Просрочено</td>\n",
       "      <td>Среднерусский банк</td>\n",
       "      <td>1848864</td>\n",
       "      <td>1</td>\n",
       "      <td>0</td>\n",
       "      <td>1</td>\n",
       "      <td>0</td>\n",
       "    </tr>\n",
       "  </tbody>\n",
       "</table>\n",
       "</div>"
      ],
      "text/plain": [
       "      ID  BEGIN_DT    END_DT CREATE_DT FIRST_ISSUE_CREATE_DT FIRST_CLOSE_DT  \\\n",
       "0  25923  21.10.19  27.09.19  20.09.19              08.10.19            NaN   \n",
       "1  25722  21.10.19  27.09.19  20.09.19              08.10.19            NaN   \n",
       "2  25787  17.10.19  27.09.19  20.09.19              08.10.19            NaN   \n",
       "3  25650  17.10.19  27.09.19  20.09.19              08.10.19            NaN   \n",
       "4  25849  17.10.19  27.09.19  20.09.19              08.10.19            NaN   \n",
       "\n",
       "  ISSUE_STAGE_NAME     EXPIRED         TB_NAME_ISU  USER_ID  COUNT_SUB_ISSUE  \\\n",
       "0         В работе  Просрочено  Среднерусский банк   720030                1   \n",
       "1         В работе  Просрочено  Среднерусский банк  3194418                1   \n",
       "2         В работе  Просрочено  Среднерусский банк  3194418                1   \n",
       "3         В работе  Просрочено  Среднерусский банк  1266400                1   \n",
       "4         В работе  Просрочено  Среднерусский банк  1848864                1   \n",
       "\n",
       "   COUNT_DEAL  EXPIRED_MARK  CANCEL_ACCEPT_MARK  \n",
       "0           0             1                   0  \n",
       "1           0             1                   0  \n",
       "2           0             1                   0  \n",
       "3           0             1                   0  \n",
       "4           0             1                   0  "
      ]
     },
     "execution_count": 3,
     "metadata": {},
     "output_type": "execute_result"
    }
   ],
   "source": [
    "df = pd.read_excel(\"project_dataset.xlsx\", sheet_name=\"Export Worksheet\")\n",
    "df.head()"
   ]
  },
  {
   "cell_type": "code",
   "execution_count": 4,
   "metadata": {},
   "outputs": [
    {
     "name": "stdout",
     "output_type": "stream",
     "text": [
      "<class 'pandas.core.frame.DataFrame'>\n",
      "RangeIndex: 5408 entries, 0 to 5407\n",
      "Data columns (total 14 columns):\n",
      "ID                       5408 non-null int64\n",
      "BEGIN_DT                 5408 non-null object\n",
      "END_DT                   5408 non-null object\n",
      "CREATE_DT                5408 non-null object\n",
      "FIRST_ISSUE_CREATE_DT    3003 non-null object\n",
      "FIRST_CLOSE_DT           49 non-null object\n",
      "ISSUE_STAGE_NAME         5408 non-null object\n",
      "EXPIRED                  5408 non-null object\n",
      "TB_NAME_ISU              5408 non-null object\n",
      "USER_ID                  5408 non-null int64\n",
      "COUNT_SUB_ISSUE          5408 non-null int64\n",
      "COUNT_DEAL               5408 non-null int64\n",
      "EXPIRED_MARK             5408 non-null int64\n",
      "CANCEL_ACCEPT_MARK       5408 non-null int64\n",
      "dtypes: int64(6), object(8)\n",
      "memory usage: 591.6+ KB\n",
      "None\n",
      "Форма: (5408, 14)\n",
      "\n",
      "Столбцы: Index(['ID', 'BEGIN_DT', 'END_DT', 'CREATE_DT', 'FIRST_ISSUE_CREATE_DT',\n",
      "       'FIRST_CLOSE_DT', 'ISSUE_STAGE_NAME', 'EXPIRED', 'TB_NAME_ISU',\n",
      "       'USER_ID', 'COUNT_SUB_ISSUE', 'COUNT_DEAL', 'EXPIRED_MARK',\n",
      "       'CANCEL_ACCEPT_MARK'],\n",
      "      dtype='object')\n",
      "\n",
      "Индексы: RangeIndex(start=0, stop=5408, step=1)\n",
      "\n"
     ]
    }
   ],
   "source": [
    "def df_info(input_dataframe):\n",
    "    ''' Определение формы датафрейма. \n",
    "    '''\n",
    "    print(input_dataframe.info())\n",
    "    return print(\"Форма: {}\\n\\nСтолбцы: {}\\n\\nИндексы: {}\\n\".format(input_dataframe.shape, \n",
    "                                                                      input_dataframe.columns, input_dataframe.index))\n",
    "\n",
    "df_info(df)"
   ]
  },
  {
   "cell_type": "code",
   "execution_count": 5,
   "metadata": {},
   "outputs": [
    {
     "name": "stdout",
     "output_type": "stream",
     "text": [
      "Отказ            2570\n",
      "Просрочено       1614\n",
      "Закрыта          1223\n",
      "Не просрочено       1\n",
      "Name: EXPIRED, dtype: int64 \n",
      "\n",
      "Волго-Вятский банк             833\n",
      "Среднерусский банк             653\n",
      "Северо-Западный банк           554\n",
      "Центрально-Черноземный банк    542\n",
      "Поволжский банк                483\n",
      "Юго-Западный банк              478\n",
      "Уральский банк                 459\n",
      "Сибирский банк                 414\n",
      "Байкальский банк               386\n",
      "Московский банк                309\n",
      "Дальневосточный банк           297\n",
      "Name: TB_NAME_ISU, dtype: int64 \n",
      "\n",
      "Отказ        2570\n",
      "В работе     1360\n",
      "Закрыта      1223\n",
      "Загружена     255\n",
      "Name: ISSUE_STAGE_NAME, dtype: int64 \n",
      "\n",
      "30.07.19    45\n",
      "31.07.19     2\n",
      "29.07.19     2\n",
      "Name: FIRST_CLOSE_DT, dtype: int64 \n",
      "\n"
     ]
    }
   ],
   "source": [
    "print(df[\"EXPIRED\"].value_counts(), \"\\n\")\n",
    "print(df[\"TB_NAME_ISU\"].value_counts(), \"\\n\")\n",
    "print(df[\"ISSUE_STAGE_NAME\"].value_counts(), \"\\n\")\n",
    "print(df[\"FIRST_CLOSE_DT\"].value_counts(), \"\\n\")\n",
    "\n",
    "df1 = df"
   ]
  },
  {
   "cell_type": "code",
   "execution_count": 6,
   "metadata": {},
   "outputs": [
    {
     "data": {
      "text/plain": [
       "' \\n# Добавление бинарных признаков\\ndf = df.join(pd.get_dummies(df[\"EXPIRED\"], prefix = \"EXPIRED\"))\\ndf = df.join(pd.get_dummies(df[\"ISSUE_STAGE_NAME\"], prefix = \"ISSUE_STAGE_NAME\"))\\ndf = df.drop([\\'ID\\', \\'BEGIN_DT\\', \\'END_DT\\', \\'CREATE_DT\\', \\'FIRST_ISSUE_CREATE_DT\\',\\n       \\'FIRST_CLOSE_DT\\', \\'ISSUE_STAGE_NAME\\', \\'EXPIRED\\'], axis = 1)\\ndf.head()\\n'"
      ]
     },
     "execution_count": 6,
     "metadata": {},
     "output_type": "execute_result"
    }
   ],
   "source": [
    "''' \n",
    "# Добавление бинарных признаков\n",
    "df = df.join(pd.get_dummies(df[\"EXPIRED\"], prefix = \"EXPIRED\"))\n",
    "df = df.join(pd.get_dummies(df[\"ISSUE_STAGE_NAME\"], prefix = \"ISSUE_STAGE_NAME\"))\n",
    "df = df.drop(['ID', 'BEGIN_DT', 'END_DT', 'CREATE_DT', 'FIRST_ISSUE_CREATE_DT',\n",
    "       'FIRST_CLOSE_DT', 'ISSUE_STAGE_NAME', 'EXPIRED'], axis = 1)\n",
    "df.head()\n",
    "'''"
   ]
  },
  {
   "cell_type": "code",
   "execution_count": 7,
   "metadata": {},
   "outputs": [
    {
     "data": {
      "text/html": [
       "<div>\n",
       "<style scoped>\n",
       "    .dataframe tbody tr th:only-of-type {\n",
       "        vertical-align: middle;\n",
       "    }\n",
       "\n",
       "    .dataframe tbody tr th {\n",
       "        vertical-align: top;\n",
       "    }\n",
       "\n",
       "    .dataframe thead th {\n",
       "        text-align: right;\n",
       "    }\n",
       "</style>\n",
       "<table border=\"1\" class=\"dataframe\">\n",
       "  <thead>\n",
       "    <tr style=\"text-align: right;\">\n",
       "      <th></th>\n",
       "      <th>COUNT_SUB_ISSUE</th>\n",
       "      <th>COUNT_DEAL</th>\n",
       "      <th>EXPIRED_MARK</th>\n",
       "      <th>CANCEL_ACCEPT_MARK</th>\n",
       "      <th>TASK_TOTAL</th>\n",
       "    </tr>\n",
       "    <tr>\n",
       "      <th>USER_ID</th>\n",
       "      <th></th>\n",
       "      <th></th>\n",
       "      <th></th>\n",
       "      <th></th>\n",
       "      <th></th>\n",
       "    </tr>\n",
       "  </thead>\n",
       "  <tbody>\n",
       "    <tr>\n",
       "      <th>213380</th>\n",
       "      <td>59</td>\n",
       "      <td>25</td>\n",
       "      <td>7</td>\n",
       "      <td>19</td>\n",
       "      <td>108</td>\n",
       "    </tr>\n",
       "    <tr>\n",
       "      <th>236084</th>\n",
       "      <td>15</td>\n",
       "      <td>3</td>\n",
       "      <td>1</td>\n",
       "      <td>0</td>\n",
       "      <td>18</td>\n",
       "    </tr>\n",
       "    <tr>\n",
       "      <th>249998</th>\n",
       "      <td>15</td>\n",
       "      <td>0</td>\n",
       "      <td>2</td>\n",
       "      <td>16</td>\n",
       "      <td>49</td>\n",
       "    </tr>\n",
       "    <tr>\n",
       "      <th>250106</th>\n",
       "      <td>32</td>\n",
       "      <td>1</td>\n",
       "      <td>7</td>\n",
       "      <td>21</td>\n",
       "      <td>78</td>\n",
       "    </tr>\n",
       "    <tr>\n",
       "      <th>256624</th>\n",
       "      <td>46</td>\n",
       "      <td>7</td>\n",
       "      <td>9</td>\n",
       "      <td>2</td>\n",
       "      <td>73</td>\n",
       "    </tr>\n",
       "  </tbody>\n",
       "</table>\n",
       "</div>"
      ],
      "text/plain": [
       "         COUNT_SUB_ISSUE  COUNT_DEAL  EXPIRED_MARK  CANCEL_ACCEPT_MARK  \\\n",
       "USER_ID                                                                  \n",
       "213380                59          25             7                  19   \n",
       "236084                15           3             1                   0   \n",
       "249998                15           0             2                  16   \n",
       "250106                32           1             7                  21   \n",
       "256624                46           7             9                   2   \n",
       "\n",
       "         TASK_TOTAL  \n",
       "USER_ID              \n",
       "213380          108  \n",
       "236084           18  \n",
       "249998           49  \n",
       "250106           78  \n",
       "256624           73  "
      ]
     },
     "execution_count": 7,
     "metadata": {},
     "output_type": "execute_result"
    }
   ],
   "source": [
    "# добваить кол-во задач-строк\n",
    "df_tmp1 = df.groupby([\"USER_ID\"]).size()\n",
    "df_tmp2 = df.groupby(\"USER_ID\")['COUNT_SUB_ISSUE',\"COUNT_DEAL\",\"EXPIRED_MARK\",\"CANCEL_ACCEPT_MARK\"].sum()\n",
    "df = pd.concat([df_tmp2, df_tmp1 ], axis=1 )\n",
    "df.rename(columns={df.columns[4]: 'TASK_TOTAL'}, inplace=True)\n",
    "df.head()"
   ]
  },
  {
   "cell_type": "code",
   "execution_count": 8,
   "metadata": {},
   "outputs": [],
   "source": [
    "# Доля заключенных сделок \n",
    "df[\"DEAL_RATIO\"] = df[\"COUNT_DEAL\"] / df[\"COUNT_SUB_ISSUE\"]"
   ]
  },
  {
   "cell_type": "code",
   "execution_count": 9,
   "metadata": {},
   "outputs": [
    {
     "data": {
      "text/html": [
       "<div>\n",
       "<style scoped>\n",
       "    .dataframe tbody tr th:only-of-type {\n",
       "        vertical-align: middle;\n",
       "    }\n",
       "\n",
       "    .dataframe tbody tr th {\n",
       "        vertical-align: top;\n",
       "    }\n",
       "\n",
       "    .dataframe thead th {\n",
       "        text-align: right;\n",
       "    }\n",
       "</style>\n",
       "<table border=\"1\" class=\"dataframe\">\n",
       "  <thead>\n",
       "    <tr style=\"text-align: right;\">\n",
       "      <th></th>\n",
       "      <th>COUNT_SUB_ISSUE</th>\n",
       "      <th>COUNT_DEAL</th>\n",
       "      <th>EXPIRED_MARK</th>\n",
       "      <th>CANCEL_ACCEPT_MARK</th>\n",
       "      <th>TASK_TOTAL</th>\n",
       "      <th>DEAL_RATIO</th>\n",
       "    </tr>\n",
       "    <tr>\n",
       "      <th>USER_ID</th>\n",
       "      <th></th>\n",
       "      <th></th>\n",
       "      <th></th>\n",
       "      <th></th>\n",
       "      <th></th>\n",
       "      <th></th>\n",
       "    </tr>\n",
       "  </thead>\n",
       "  <tbody>\n",
       "    <tr>\n",
       "      <th>213380</th>\n",
       "      <td>59</td>\n",
       "      <td>25</td>\n",
       "      <td>7</td>\n",
       "      <td>19</td>\n",
       "      <td>108</td>\n",
       "      <td>0.423729</td>\n",
       "    </tr>\n",
       "    <tr>\n",
       "      <th>236084</th>\n",
       "      <td>15</td>\n",
       "      <td>3</td>\n",
       "      <td>1</td>\n",
       "      <td>0</td>\n",
       "      <td>18</td>\n",
       "      <td>0.200000</td>\n",
       "    </tr>\n",
       "    <tr>\n",
       "      <th>249998</th>\n",
       "      <td>15</td>\n",
       "      <td>0</td>\n",
       "      <td>2</td>\n",
       "      <td>16</td>\n",
       "      <td>49</td>\n",
       "      <td>0.000000</td>\n",
       "    </tr>\n",
       "    <tr>\n",
       "      <th>250106</th>\n",
       "      <td>32</td>\n",
       "      <td>1</td>\n",
       "      <td>7</td>\n",
       "      <td>21</td>\n",
       "      <td>78</td>\n",
       "      <td>0.031250</td>\n",
       "    </tr>\n",
       "    <tr>\n",
       "      <th>256624</th>\n",
       "      <td>46</td>\n",
       "      <td>7</td>\n",
       "      <td>9</td>\n",
       "      <td>2</td>\n",
       "      <td>73</td>\n",
       "      <td>0.152174</td>\n",
       "    </tr>\n",
       "  </tbody>\n",
       "</table>\n",
       "</div>"
      ],
      "text/plain": [
       "         COUNT_SUB_ISSUE  COUNT_DEAL  EXPIRED_MARK  CANCEL_ACCEPT_MARK  \\\n",
       "USER_ID                                                                  \n",
       "213380                59          25             7                  19   \n",
       "236084                15           3             1                   0   \n",
       "249998                15           0             2                  16   \n",
       "250106                32           1             7                  21   \n",
       "256624                46           7             9                   2   \n",
       "\n",
       "         TASK_TOTAL  DEAL_RATIO  \n",
       "USER_ID                          \n",
       "213380          108    0.423729  \n",
       "236084           18    0.200000  \n",
       "249998           49    0.000000  \n",
       "250106           78    0.031250  \n",
       "256624           73    0.152174  "
      ]
     },
     "execution_count": 9,
     "metadata": {},
     "output_type": "execute_result"
    }
   ],
   "source": [
    "df.head()"
   ]
  },
  {
   "cell_type": "code",
   "execution_count": null,
   "metadata": {},
   "outputs": [],
   "source": []
  },
  {
   "cell_type": "code",
   "execution_count": 10,
   "metadata": {},
   "outputs": [
    {
     "data": {
      "text/html": [
       "<div>\n",
       "<style scoped>\n",
       "    .dataframe tbody tr th:only-of-type {\n",
       "        vertical-align: middle;\n",
       "    }\n",
       "\n",
       "    .dataframe tbody tr th {\n",
       "        vertical-align: top;\n",
       "    }\n",
       "\n",
       "    .dataframe thead th {\n",
       "        text-align: right;\n",
       "    }\n",
       "</style>\n",
       "<table border=\"1\" class=\"dataframe\">\n",
       "  <thead>\n",
       "    <tr style=\"text-align: right;\">\n",
       "      <th></th>\n",
       "      <th>COUNT_SUB_ISSUE</th>\n",
       "      <th>COUNT_DEAL</th>\n",
       "      <th>EXPIRED_MARK</th>\n",
       "      <th>CANCEL_ACCEPT_MARK</th>\n",
       "      <th>TASK_TOTAL</th>\n",
       "      <th>DEAL_RATIO</th>\n",
       "      <th>INTIME_RATIO</th>\n",
       "    </tr>\n",
       "    <tr>\n",
       "      <th>USER_ID</th>\n",
       "      <th></th>\n",
       "      <th></th>\n",
       "      <th></th>\n",
       "      <th></th>\n",
       "      <th></th>\n",
       "      <th></th>\n",
       "      <th></th>\n",
       "    </tr>\n",
       "  </thead>\n",
       "  <tbody>\n",
       "    <tr>\n",
       "      <th>213380</th>\n",
       "      <td>59</td>\n",
       "      <td>25</td>\n",
       "      <td>7</td>\n",
       "      <td>19</td>\n",
       "      <td>108</td>\n",
       "      <td>0.423729</td>\n",
       "      <td>0.935185</td>\n",
       "    </tr>\n",
       "    <tr>\n",
       "      <th>236084</th>\n",
       "      <td>15</td>\n",
       "      <td>3</td>\n",
       "      <td>1</td>\n",
       "      <td>0</td>\n",
       "      <td>18</td>\n",
       "      <td>0.200000</td>\n",
       "      <td>0.944444</td>\n",
       "    </tr>\n",
       "    <tr>\n",
       "      <th>249998</th>\n",
       "      <td>15</td>\n",
       "      <td>0</td>\n",
       "      <td>2</td>\n",
       "      <td>16</td>\n",
       "      <td>49</td>\n",
       "      <td>0.000000</td>\n",
       "      <td>0.959184</td>\n",
       "    </tr>\n",
       "    <tr>\n",
       "      <th>250106</th>\n",
       "      <td>32</td>\n",
       "      <td>1</td>\n",
       "      <td>7</td>\n",
       "      <td>21</td>\n",
       "      <td>78</td>\n",
       "      <td>0.031250</td>\n",
       "      <td>0.910256</td>\n",
       "    </tr>\n",
       "    <tr>\n",
       "      <th>256624</th>\n",
       "      <td>46</td>\n",
       "      <td>7</td>\n",
       "      <td>9</td>\n",
       "      <td>2</td>\n",
       "      <td>73</td>\n",
       "      <td>0.152174</td>\n",
       "      <td>0.876712</td>\n",
       "    </tr>\n",
       "  </tbody>\n",
       "</table>\n",
       "</div>"
      ],
      "text/plain": [
       "         COUNT_SUB_ISSUE  COUNT_DEAL  EXPIRED_MARK  CANCEL_ACCEPT_MARK  \\\n",
       "USER_ID                                                                  \n",
       "213380                59          25             7                  19   \n",
       "236084                15           3             1                   0   \n",
       "249998                15           0             2                  16   \n",
       "250106                32           1             7                  21   \n",
       "256624                46           7             9                   2   \n",
       "\n",
       "         TASK_TOTAL  DEAL_RATIO  INTIME_RATIO  \n",
       "USER_ID                                        \n",
       "213380          108    0.423729      0.935185  \n",
       "236084           18    0.200000      0.944444  \n",
       "249998           49    0.000000      0.959184  \n",
       "250106           78    0.031250      0.910256  \n",
       "256624           73    0.152174      0.876712  "
      ]
     },
     "execution_count": 10,
     "metadata": {},
     "output_type": "execute_result"
    }
   ],
   "source": [
    "# Доля задач, отработанных вовремя\n",
    "df[\"INTIME_RATIO\"] = 1 - df[\"EXPIRED_MARK\"] / df[\"TASK_TOTAL\"]\n",
    "df.head()"
   ]
  },
  {
   "cell_type": "code",
   "execution_count": 11,
   "metadata": {},
   "outputs": [
    {
     "data": {
      "text/html": [
       "<div>\n",
       "<style scoped>\n",
       "    .dataframe tbody tr th:only-of-type {\n",
       "        vertical-align: middle;\n",
       "    }\n",
       "\n",
       "    .dataframe tbody tr th {\n",
       "        vertical-align: top;\n",
       "    }\n",
       "\n",
       "    .dataframe thead th {\n",
       "        text-align: right;\n",
       "    }\n",
       "</style>\n",
       "<table border=\"1\" class=\"dataframe\">\n",
       "  <thead>\n",
       "    <tr style=\"text-align: right;\">\n",
       "      <th></th>\n",
       "      <th>COUNT_SUB_ISSUE</th>\n",
       "      <th>COUNT_DEAL</th>\n",
       "      <th>EXPIRED_MARK</th>\n",
       "      <th>CANCEL_ACCEPT_MARK</th>\n",
       "      <th>TASK_TOTAL</th>\n",
       "      <th>DEAL_RATIO</th>\n",
       "      <th>INTIME_RATIO</th>\n",
       "    </tr>\n",
       "  </thead>\n",
       "  <tbody>\n",
       "    <tr>\n",
       "      <th>count</th>\n",
       "      <td>105.000000</td>\n",
       "      <td>105.000000</td>\n",
       "      <td>105.000000</td>\n",
       "      <td>105.000000</td>\n",
       "      <td>105.000000</td>\n",
       "      <td>101.000000</td>\n",
       "      <td>105.000000</td>\n",
       "    </tr>\n",
       "    <tr>\n",
       "      <th>mean</th>\n",
       "      <td>38.876190</td>\n",
       "      <td>7.800000</td>\n",
       "      <td>13.333333</td>\n",
       "      <td>12.847619</td>\n",
       "      <td>51.504762</td>\n",
       "      <td>0.205801</td>\n",
       "      <td>0.736293</td>\n",
       "    </tr>\n",
       "    <tr>\n",
       "      <th>std</th>\n",
       "      <td>29.362684</td>\n",
       "      <td>10.168201</td>\n",
       "      <td>16.733009</td>\n",
       "      <td>17.219611</td>\n",
       "      <td>35.317005</td>\n",
       "      <td>0.197315</td>\n",
       "      <td>0.236649</td>\n",
       "    </tr>\n",
       "    <tr>\n",
       "      <th>min</th>\n",
       "      <td>0.000000</td>\n",
       "      <td>0.000000</td>\n",
       "      <td>0.000000</td>\n",
       "      <td>0.000000</td>\n",
       "      <td>1.000000</td>\n",
       "      <td>0.000000</td>\n",
       "      <td>0.000000</td>\n",
       "    </tr>\n",
       "    <tr>\n",
       "      <th>25%</th>\n",
       "      <td>15.000000</td>\n",
       "      <td>1.000000</td>\n",
       "      <td>2.000000</td>\n",
       "      <td>1.000000</td>\n",
       "      <td>23.000000</td>\n",
       "      <td>0.058824</td>\n",
       "      <td>0.600000</td>\n",
       "    </tr>\n",
       "    <tr>\n",
       "      <th>50%</th>\n",
       "      <td>34.000000</td>\n",
       "      <td>5.000000</td>\n",
       "      <td>7.000000</td>\n",
       "      <td>7.000000</td>\n",
       "      <td>47.000000</td>\n",
       "      <td>0.152778</td>\n",
       "      <td>0.813953</td>\n",
       "    </tr>\n",
       "    <tr>\n",
       "      <th>75%</th>\n",
       "      <td>59.000000</td>\n",
       "      <td>10.000000</td>\n",
       "      <td>19.000000</td>\n",
       "      <td>16.000000</td>\n",
       "      <td>70.000000</td>\n",
       "      <td>0.300000</td>\n",
       "      <td>0.921053</td>\n",
       "    </tr>\n",
       "    <tr>\n",
       "      <th>max</th>\n",
       "      <td>119.000000</td>\n",
       "      <td>57.000000</td>\n",
       "      <td>77.000000</td>\n",
       "      <td>98.000000</td>\n",
       "      <td>171.000000</td>\n",
       "      <td>0.857143</td>\n",
       "      <td>1.000000</td>\n",
       "    </tr>\n",
       "  </tbody>\n",
       "</table>\n",
       "</div>"
      ],
      "text/plain": [
       "       COUNT_SUB_ISSUE  COUNT_DEAL  EXPIRED_MARK  CANCEL_ACCEPT_MARK  \\\n",
       "count       105.000000  105.000000    105.000000          105.000000   \n",
       "mean         38.876190    7.800000     13.333333           12.847619   \n",
       "std          29.362684   10.168201     16.733009           17.219611   \n",
       "min           0.000000    0.000000      0.000000            0.000000   \n",
       "25%          15.000000    1.000000      2.000000            1.000000   \n",
       "50%          34.000000    5.000000      7.000000            7.000000   \n",
       "75%          59.000000   10.000000     19.000000           16.000000   \n",
       "max         119.000000   57.000000     77.000000           98.000000   \n",
       "\n",
       "       TASK_TOTAL  DEAL_RATIO  INTIME_RATIO  \n",
       "count  105.000000  101.000000    105.000000  \n",
       "mean    51.504762    0.205801      0.736293  \n",
       "std     35.317005    0.197315      0.236649  \n",
       "min      1.000000    0.000000      0.000000  \n",
       "25%     23.000000    0.058824      0.600000  \n",
       "50%     47.000000    0.152778      0.813953  \n",
       "75%     70.000000    0.300000      0.921053  \n",
       "max    171.000000    0.857143      1.000000  "
      ]
     },
     "execution_count": 11,
     "metadata": {},
     "output_type": "execute_result"
    }
   ],
   "source": [
    "# Определение статистических параметров по столбцам\n",
    "df.describe()"
   ]
  },
  {
   "cell_type": "code",
   "execution_count": 12,
   "metadata": {},
   "outputs": [
    {
     "name": "stdout",
     "output_type": "stream",
     "text": [
      "В среднем задач, отработано вовремя: 0.7362931627808684 \n",
      "В среднем доля заключенных сделок: 0.2058009715452671\n",
      "Сигма для задач: 0.23664940233572185 ; Сигма для сделок 0.19731453719618205\n"
     ]
    }
   ],
   "source": [
    "print(\"В среднем задач, отработано вовремя:\", df[\"INTIME_RATIO\"].mean(), \"\\nВ среднем доля заключенных сделок:\", df[\"DEAL_RATIO\"].mean())\n",
    "\n",
    "print(\"Сигма для задач:\", df[\"INTIME_RATIO\"].std(ddof=1), \"; Сигма для сделок\" ,df[\"DEAL_RATIO\"].std(ddof=1))\n",
    "\n"
   ]
  },
  {
   "cell_type": "code",
   "execution_count": 13,
   "metadata": {},
   "outputs": [
    {
     "name": "stdout",
     "output_type": "stream",
     "text": [
      "Доверительный интервал для задач: (0.6904734428507411, 0.7821128827109958)\n",
      "Доверительный интервал для сделок: (0.16684804749369928, 0.24475389559683494)\n"
     ]
    }
   ],
   "source": [
    "def distribution(df):\n",
    "    \"\"\" Доверительный интервал значений датафрейма\n",
    "    \"\"\"\n",
    "    n = df.count()\n",
    "    mean = df.mean()\n",
    "    std = df.std(ddof=1)\n",
    "\n",
    "    t = 1.9840\n",
    "\n",
    "    return (mean - 1.9840 * std / np.sqrt(n), mean + 1.9840 * std / np.sqrt(n))\n",
    "\n",
    "print(\"Доверительный интервал для задач:\", distribution(df[\"INTIME_RATIO\"]) )\n",
    "print(\"Доверительный интервал для сделок:\", distribution(df[\"DEAL_RATIO\"]) )"
   ]
  },
  {
   "cell_type": "code",
   "execution_count": 14,
   "metadata": {},
   "outputs": [
    {
     "data": {
      "text/plain": [
       "[<matplotlib.lines.Line2D at 0x1a1dbb8828>]"
      ]
     },
     "execution_count": 14,
     "metadata": {},
     "output_type": "execute_result"
    },
    {
     "data": {
      "image/png": "[encoded data removed]",
      "text/plain": [
       "<Figure size 432x288 with 1 Axes>"
      ]
     },
     "metadata": {
      "needs_background": "light"
     },
     "output_type": "display_data"
    }
   ],
   "source": [
    "def edf(samples, x: float) -> float:\n",
    "    \"\"\"Эмпирическая функция распределения (empirical distribution\n",
    "    function).\n",
    "    \"\"\"\n",
    "    \n",
    "    return samples[samples < x].shape[0] / samples.shape[0]\n",
    "\n",
    "ox = df[\"INTIME_RATIO\"]\n",
    "oy = np.array([edf(df[\"DEAL_RATIO\"], x) for x in ox])\n",
    "\n",
    "plt.plot(ox, oy)\n",
    "plt.plot(df[\"INTIME_RATIO\"], df[\"DEAL_RATIO\"])"
   ]
  },
  {
   "cell_type": "code",
   "execution_count": 15,
   "metadata": {},
   "outputs": [
    {
     "data": {
      "image/png": "[encoded data removed]",
      "text/plain": [
       "<Figure size 432x288 with 1 Axes>"
      ]
     },
     "metadata": {
      "needs_background": "light"
     },
     "output_type": "display_data"
    }
   ],
   "source": [
    "# Гистограмма распределения взятых вовремя задач\n",
    "plt.hist(df[\"INTIME_RATIO\"], density=True, bins=15)\n",
    "plt.show()"
   ]
  },
  {
   "cell_type": "code",
   "execution_count": 16,
   "metadata": {
    "scrolled": true
   },
   "outputs": [
    {
     "name": "stderr",
     "output_type": "stream",
     "text": [
      "/Users/daniil/anaconda3/lib/python3.7/site-packages/numpy/lib/histograms.py:824: RuntimeWarning: invalid value encountered in greater_equal\n",
      "  keep = (tmp_a >= first_edge)\n",
      "/Users/daniil/anaconda3/lib/python3.7/site-packages/numpy/lib/histograms.py:825: RuntimeWarning: invalid value encountered in less_equal\n",
      "  keep &= (tmp_a <= last_edge)\n"
     ]
    },
    {
     "data": {
      "image/png": "[encoded data removed]",
      "text/plain": [
       "<Figure size 432x288 with 1 Axes>"
      ]
     },
     "metadata": {
      "needs_background": "light"
     },
     "output_type": "display_data"
    }
   ],
   "source": [
    "# Гистограмма распределения отработанных вовремя сделок\n",
    "plt.hist(df[\"DEAL_RATIO\"], density=True, bins=15)\n",
    "plt.show()"
   ]
  },
  {
   "cell_type": "code",
   "execution_count": 17,
   "metadata": {
    "scrolled": true
   },
   "outputs": [
    {
     "data": {
      "text/plain": [
       "Text(0, 0.5, 'INTIME_RATIO')"
      ]
     },
     "execution_count": 17,
     "metadata": {},
     "output_type": "execute_result"
    },
    {
     "data": {
      "image/png": "[encoded data removed]",
      "text/plain": [
       "<Figure size 432x288 with 1 Axes>"
      ]
     },
     "metadata": {
      "needs_background": "light"
     },
     "output_type": "display_data"
    }
   ],
   "source": [
    "\n",
    "plt.scatter(df[\"DEAL_RATIO\"],df[\"INTIME_RATIO\"])\n",
    "plt.xlabel(\"DEAL_RATIO\")\n",
    "plt.ylabel(\"INTIME_RATIO\")"
   ]
  },
  {
   "cell_type": "code",
   "execution_count": 18,
   "metadata": {},
   "outputs": [
    {
     "name": "stdout",
     "output_type": "stream",
     "text": [
      " Определение зависимости между задачами, взятыми в работу вовремя и конвертацией сделок\n",
      "              DEAL_RATIO  INTIME_RATIO\n",
      "DEAL_RATIO       1.00000       0.06857\n",
      "INTIME_RATIO     0.06857       1.00000\n",
      "Зависимость практически отсутствует\n",
      "\n",
      "Проверка на ранговые коэффициенты корреляции Кендалла и Спирмена\n",
      "              DEAL_RATIO  INTIME_RATIO\n",
      "DEAL_RATIO      1.000000     -0.012646\n",
      "INTIME_RATIO   -0.012646      1.000000\n",
      "              DEAL_RATIO  INTIME_RATIO\n",
      "DEAL_RATIO      1.000000     -0.019954\n",
      "INTIME_RATIO   -0.019954      1.000000\n"
     ]
    }
   ],
   "source": [
    "print(\" Определение зависимости между задачами, взятыми в работу вовремя и конвертацией сделок\")\n",
    "print(df[[\"DEAL_RATIO\",\"INTIME_RATIO\"]].corr())\n",
    "print(\"Зависимость практически отсутствует\")\n",
    "\n",
    "print(\"\\nПроверка на ранговые коэффициенты корреляции Кендалла и Спирмена\")\n",
    "print(df[[\"DEAL_RATIO\",\"INTIME_RATIO\"]].corr(method='kendall'))\n",
    "print(df[[\"DEAL_RATIO\",\"INTIME_RATIO\"]].corr(method='spearman'))"
   ]
  },
  {
   "cell_type": "code",
   "execution_count": 19,
   "metadata": {},
   "outputs": [
    {
     "data": {
      "image/png": "[encoded data removed]",
      "text/plain": [
       "<Figure size 288x288 with 1 Axes>"
      ]
     },
     "metadata": {
      "needs_background": "light"
     },
     "output_type": "display_data"
    },
    {
     "data": {
      "text/html": [
       "<style  type=\"text/css\" >\n",
       "    #T_ca2f34d4_f116_11e9_8f0f_acde48001122row0_col0 {\n",
       "            background-color:  #b40426;\n",
       "            color:  #f1f1f1;\n",
       "        }    #T_ca2f34d4_f116_11e9_8f0f_acde48001122row0_col1 {\n",
       "            background-color:  #f2c9b4;\n",
       "            color:  #000000;\n",
       "        }    #T_ca2f34d4_f116_11e9_8f0f_acde48001122row0_col2 {\n",
       "            background-color:  #f2cab5;\n",
       "            color:  #000000;\n",
       "        }    #T_ca2f34d4_f116_11e9_8f0f_acde48001122row0_col3 {\n",
       "            background-color:  #6f92f3;\n",
       "            color:  #000000;\n",
       "        }    #T_ca2f34d4_f116_11e9_8f0f_acde48001122row0_col4 {\n",
       "            background-color:  #f7b194;\n",
       "            color:  #000000;\n",
       "        }    #T_ca2f34d4_f116_11e9_8f0f_acde48001122row0_col5 {\n",
       "            background-color:  #5f7fe8;\n",
       "            color:  #000000;\n",
       "        }    #T_ca2f34d4_f116_11e9_8f0f_acde48001122row0_col6 {\n",
       "            background-color:  #c4d5f3;\n",
       "            color:  #000000;\n",
       "        }    #T_ca2f34d4_f116_11e9_8f0f_acde48001122row1_col0 {\n",
       "            background-color:  #ead4c8;\n",
       "            color:  #000000;\n",
       "        }    #T_ca2f34d4_f116_11e9_8f0f_acde48001122row1_col1 {\n",
       "            background-color:  #b40426;\n",
       "            color:  #f1f1f1;\n",
       "        }    #T_ca2f34d4_f116_11e9_8f0f_acde48001122row1_col2 {\n",
       "            background-color:  #d9dce1;\n",
       "            color:  #000000;\n",
       "        }    #T_ca2f34d4_f116_11e9_8f0f_acde48001122row1_col3 {\n",
       "            background-color:  #3b4cc0;\n",
       "            color:  #f1f1f1;\n",
       "        }    #T_ca2f34d4_f116_11e9_8f0f_acde48001122row1_col4 {\n",
       "            background-color:  #bcd2f7;\n",
       "            color:  #000000;\n",
       "        }    #T_ca2f34d4_f116_11e9_8f0f_acde48001122row1_col5 {\n",
       "            background-color:  #f7aa8c;\n",
       "            color:  #000000;\n",
       "        }    #T_ca2f34d4_f116_11e9_8f0f_acde48001122row1_col6 {\n",
       "            background-color:  #b9d0f9;\n",
       "            color:  #000000;\n",
       "        }    #T_ca2f34d4_f116_11e9_8f0f_acde48001122row2_col0 {\n",
       "            background-color:  #c5d6f2;\n",
       "            color:  #000000;\n",
       "        }    #T_ca2f34d4_f116_11e9_8f0f_acde48001122row2_col1 {\n",
       "            background-color:  #aac7fd;\n",
       "            color:  #000000;\n",
       "        }    #T_ca2f34d4_f116_11e9_8f0f_acde48001122row2_col2 {\n",
       "            background-color:  #b40426;\n",
       "            color:  #f1f1f1;\n",
       "        }    #T_ca2f34d4_f116_11e9_8f0f_acde48001122row2_col3 {\n",
       "            background-color:  #bfd3f6;\n",
       "            color:  #000000;\n",
       "        }    #T_ca2f34d4_f116_11e9_8f0f_acde48001122row2_col4 {\n",
       "            background-color:  #f59d7e;\n",
       "            color:  #000000;\n",
       "        }    #T_ca2f34d4_f116_11e9_8f0f_acde48001122row2_col5 {\n",
       "            background-color:  #5470de;\n",
       "            color:  #000000;\n",
       "        }    #T_ca2f34d4_f116_11e9_8f0f_acde48001122row2_col6 {\n",
       "            background-color:  #3b4cc0;\n",
       "            color:  #f1f1f1;\n",
       "        }    #T_ca2f34d4_f116_11e9_8f0f_acde48001122row3_col0 {\n",
       "            background-color:  #4a63d3;\n",
       "            color:  #f1f1f1;\n",
       "        }    #T_ca2f34d4_f116_11e9_8f0f_acde48001122row3_col1 {\n",
       "            background-color:  #3b4cc0;\n",
       "            color:  #f1f1f1;\n",
       "        }    #T_ca2f34d4_f116_11e9_8f0f_acde48001122row3_col2 {\n",
       "            background-color:  #e5d8d1;\n",
       "            color:  #000000;\n",
       "        }    #T_ca2f34d4_f116_11e9_8f0f_acde48001122row3_col3 {\n",
       "            background-color:  #b40426;\n",
       "            color:  #f1f1f1;\n",
       "        }    #T_ca2f34d4_f116_11e9_8f0f_acde48001122row3_col4 {\n",
       "            background-color:  #f7ba9f;\n",
       "            color:  #000000;\n",
       "        }    #T_ca2f34d4_f116_11e9_8f0f_acde48001122row3_col5 {\n",
       "            background-color:  #3b4cc0;\n",
       "            color:  #f1f1f1;\n",
       "        }    #T_ca2f34d4_f116_11e9_8f0f_acde48001122row3_col6 {\n",
       "            background-color:  #d3dbe7;\n",
       "            color:  #000000;\n",
       "        }    #T_ca2f34d4_f116_11e9_8f0f_acde48001122row4_col0 {\n",
       "            background-color:  #f7b89c;\n",
       "            color:  #000000;\n",
       "        }    #T_ca2f34d4_f116_11e9_8f0f_acde48001122row4_col1 {\n",
       "            background-color:  #c6d6f1;\n",
       "            color:  #000000;\n",
       "        }    #T_ca2f34d4_f116_11e9_8f0f_acde48001122row4_col2 {\n",
       "            background-color:  #ec7f63;\n",
       "            color:  #000000;\n",
       "        }    #T_ca2f34d4_f116_11e9_8f0f_acde48001122row4_col3 {\n",
       "            background-color:  #f7b497;\n",
       "            color:  #000000;\n",
       "        }    #T_ca2f34d4_f116_11e9_8f0f_acde48001122row4_col4 {\n",
       "            background-color:  #b40426;\n",
       "            color:  #f1f1f1;\n",
       "        }    #T_ca2f34d4_f116_11e9_8f0f_acde48001122row4_col5 {\n",
       "            background-color:  #4b64d5;\n",
       "            color:  #f1f1f1;\n",
       "        }    #T_ca2f34d4_f116_11e9_8f0f_acde48001122row4_col6 {\n",
       "            background-color:  #b5cdfa;\n",
       "            color:  #000000;\n",
       "        }    #T_ca2f34d4_f116_11e9_8f0f_acde48001122row5_col0 {\n",
       "            background-color:  #3b4cc0;\n",
       "            color:  #f1f1f1;\n",
       "        }    #T_ca2f34d4_f116_11e9_8f0f_acde48001122row5_col1 {\n",
       "            background-color:  #f7aa8c;\n",
       "            color:  #000000;\n",
       "        }    #T_ca2f34d4_f116_11e9_8f0f_acde48001122row5_col2 {\n",
       "            background-color:  #9bbcff;\n",
       "            color:  #000000;\n",
       "        }    #T_ca2f34d4_f116_11e9_8f0f_acde48001122row5_col3 {\n",
       "            background-color:  #3b4cc0;\n",
       "            color:  #f1f1f1;\n",
       "        }    #T_ca2f34d4_f116_11e9_8f0f_acde48001122row5_col4 {\n",
       "            background-color:  #3b4cc0;\n",
       "            color:  #f1f1f1;\n",
       "        }    #T_ca2f34d4_f116_11e9_8f0f_acde48001122row5_col5 {\n",
       "            background-color:  #b40426;\n",
       "            color:  #f1f1f1;\n",
       "        }    #T_ca2f34d4_f116_11e9_8f0f_acde48001122row5_col6 {\n",
       "            background-color:  #bcd2f7;\n",
       "            color:  #000000;\n",
       "        }    #T_ca2f34d4_f116_11e9_8f0f_acde48001122row6_col0 {\n",
       "            background-color:  #6485ec;\n",
       "            color:  #000000;\n",
       "        }    #T_ca2f34d4_f116_11e9_8f0f_acde48001122row6_col1 {\n",
       "            background-color:  #799cf8;\n",
       "            color:  #000000;\n",
       "        }    #T_ca2f34d4_f116_11e9_8f0f_acde48001122row6_col2 {\n",
       "            background-color:  #3b4cc0;\n",
       "            color:  #f1f1f1;\n",
       "        }    #T_ca2f34d4_f116_11e9_8f0f_acde48001122row6_col3 {\n",
       "            background-color:  #9fbfff;\n",
       "            color:  #000000;\n",
       "        }    #T_ca2f34d4_f116_11e9_8f0f_acde48001122row6_col4 {\n",
       "            background-color:  #6282ea;\n",
       "            color:  #000000;\n",
       "        }    #T_ca2f34d4_f116_11e9_8f0f_acde48001122row6_col5 {\n",
       "            background-color:  #7ea1fa;\n",
       "            color:  #000000;\n",
       "        }    #T_ca2f34d4_f116_11e9_8f0f_acde48001122row6_col6 {\n",
       "            background-color:  #b40426;\n",
       "            color:  #f1f1f1;\n",
       "        }</style><table id=\"T_ca2f34d4_f116_11e9_8f0f_acde48001122\" ><thead>    <tr>        <th class=\"blank level0\" ></th>        <th class=\"col_heading level0 col0\" >COUNT_SUB_ISSUE</th>        <th class=\"col_heading level0 col1\" >COUNT_DEAL</th>        <th class=\"col_heading level0 col2\" >EXPIRED_MARK</th>        <th class=\"col_heading level0 col3\" >CANCEL_ACCEPT_MARK</th>        <th class=\"col_heading level0 col4\" >TASK_TOTAL</th>        <th class=\"col_heading level0 col5\" >DEAL_RATIO</th>        <th class=\"col_heading level0 col6\" >INTIME_RATIO</th>    </tr></thead><tbody>\n",
       "                <tr>\n",
       "                        <th id=\"T_ca2f34d4_f116_11e9_8f0f_acde48001122level0_row0\" class=\"row_heading level0 row0\" >COUNT_SUB_ISSUE</th>\n",
       "                        <td id=\"T_ca2f34d4_f116_11e9_8f0f_acde48001122row0_col0\" class=\"data row0 col0\" >1</td>\n",
       "                        <td id=\"T_ca2f34d4_f116_11e9_8f0f_acde48001122row0_col1\" class=\"data row0 col1\" >0.538549</td>\n",
       "                        <td id=\"T_ca2f34d4_f116_11e9_8f0f_acde48001122row0_col2\" class=\"data row0 col2\" >0.393604</td>\n",
       "                        <td id=\"T_ca2f34d4_f116_11e9_8f0f_acde48001122row0_col3\" class=\"data row0 col3\" >0.0189606</td>\n",
       "                        <td id=\"T_ca2f34d4_f116_11e9_8f0f_acde48001122row0_col4\" class=\"data row0 col4\" >0.652598</td>\n",
       "                        <td id=\"T_ca2f34d4_f116_11e9_8f0f_acde48001122row0_col5\" class=\"data row0 col5\" >-0.0369973</td>\n",
       "                        <td id=\"T_ca2f34d4_f116_11e9_8f0f_acde48001122row0_col6\" class=\"data row0 col6\" >0.103357</td>\n",
       "            </tr>\n",
       "            <tr>\n",
       "                        <th id=\"T_ca2f34d4_f116_11e9_8f0f_acde48001122level0_row1\" class=\"row_heading level0 row1\" >COUNT_DEAL</th>\n",
       "                        <td id=\"T_ca2f34d4_f116_11e9_8f0f_acde48001122row1_col0\" class=\"data row1 col0\" >0.538549</td>\n",
       "                        <td id=\"T_ca2f34d4_f116_11e9_8f0f_acde48001122row1_col1\" class=\"data row1 col1\" >1</td>\n",
       "                        <td id=\"T_ca2f34d4_f116_11e9_8f0f_acde48001122row1_col2\" class=\"data row1 col2\" >0.216275</td>\n",
       "                        <td id=\"T_ca2f34d4_f116_11e9_8f0f_acde48001122row1_col3\" class=\"data row1 col3\" >-0.174095</td>\n",
       "                        <td id=\"T_ca2f34d4_f116_11e9_8f0f_acde48001122row1_col4\" class=\"data row1 col4\" >0.320359</td>\n",
       "                        <td id=\"T_ca2f34d4_f116_11e9_8f0f_acde48001122row1_col5\" class=\"data row1 col5\" >0.65362</td>\n",
       "                        <td id=\"T_ca2f34d4_f116_11e9_8f0f_acde48001122row1_col6\" class=\"data row1 col6\" >0.0509489</td>\n",
       "            </tr>\n",
       "            <tr>\n",
       "                        <th id=\"T_ca2f34d4_f116_11e9_8f0f_acde48001122level0_row2\" class=\"row_heading level0 row2\" >EXPIRED_MARK</th>\n",
       "                        <td id=\"T_ca2f34d4_f116_11e9_8f0f_acde48001122row2_col0\" class=\"data row2 col0\" >0.393604</td>\n",
       "                        <td id=\"T_ca2f34d4_f116_11e9_8f0f_acde48001122row2_col1\" class=\"data row2 col1\" >0.216275</td>\n",
       "                        <td id=\"T_ca2f34d4_f116_11e9_8f0f_acde48001122row2_col2\" class=\"data row2 col2\" >1</td>\n",
       "                        <td id=\"T_ca2f34d4_f116_11e9_8f0f_acde48001122row2_col3\" class=\"data row2 col3\" >0.288604</td>\n",
       "                        <td id=\"T_ca2f34d4_f116_11e9_8f0f_acde48001122row2_col4\" class=\"data row2 col4\" >0.711706</td>\n",
       "                        <td id=\"T_ca2f34d4_f116_11e9_8f0f_acde48001122row2_col5\" class=\"data row2 col5\" >-0.0783041</td>\n",
       "                        <td id=\"T_ca2f34d4_f116_11e9_8f0f_acde48001122row2_col6\" class=\"data row2 col6\" >-0.523567</td>\n",
       "            </tr>\n",
       "            <tr>\n",
       "                        <th id=\"T_ca2f34d4_f116_11e9_8f0f_acde48001122level0_row3\" class=\"row_heading level0 row3\" >CANCEL_ACCEPT_MARK</th>\n",
       "                        <td id=\"T_ca2f34d4_f116_11e9_8f0f_acde48001122row3_col0\" class=\"data row3 col0\" >0.0189606</td>\n",
       "                        <td id=\"T_ca2f34d4_f116_11e9_8f0f_acde48001122row3_col1\" class=\"data row3 col1\" >-0.174095</td>\n",
       "                        <td id=\"T_ca2f34d4_f116_11e9_8f0f_acde48001122row3_col2\" class=\"data row3 col2\" >0.288604</td>\n",
       "                        <td id=\"T_ca2f34d4_f116_11e9_8f0f_acde48001122row3_col3\" class=\"data row3 col3\" >1</td>\n",
       "                        <td id=\"T_ca2f34d4_f116_11e9_8f0f_acde48001122row3_col4\" class=\"data row3 col4\" >0.620441</td>\n",
       "                        <td id=\"T_ca2f34d4_f116_11e9_8f0f_acde48001122row3_col5\" class=\"data row3 col5\" >-0.175473</td>\n",
       "                        <td id=\"T_ca2f34d4_f116_11e9_8f0f_acde48001122row3_col6\" class=\"data row3 col6\" >0.180241</td>\n",
       "            </tr>\n",
       "            <tr>\n",
       "                        <th id=\"T_ca2f34d4_f116_11e9_8f0f_acde48001122level0_row4\" class=\"row_heading level0 row4\" >TASK_TOTAL</th>\n",
       "                        <td id=\"T_ca2f34d4_f116_11e9_8f0f_acde48001122row4_col0\" class=\"data row4 col0\" >0.652598</td>\n",
       "                        <td id=\"T_ca2f34d4_f116_11e9_8f0f_acde48001122row4_col1\" class=\"data row4 col1\" >0.320359</td>\n",
       "                        <td id=\"T_ca2f34d4_f116_11e9_8f0f_acde48001122row4_col2\" class=\"data row4 col2\" >0.711706</td>\n",
       "                        <td id=\"T_ca2f34d4_f116_11e9_8f0f_acde48001122row4_col3\" class=\"data row4 col3\" >0.620441</td>\n",
       "                        <td id=\"T_ca2f34d4_f116_11e9_8f0f_acde48001122row4_col4\" class=\"data row4 col4\" >1</td>\n",
       "                        <td id=\"T_ca2f34d4_f116_11e9_8f0f_acde48001122row4_col5\" class=\"data row4 col5\" >-0.109234</td>\n",
       "                        <td id=\"T_ca2f34d4_f116_11e9_8f0f_acde48001122row4_col6\" class=\"data row4 col6\" >0.030058</td>\n",
       "            </tr>\n",
       "            <tr>\n",
       "                        <th id=\"T_ca2f34d4_f116_11e9_8f0f_acde48001122level0_row5\" class=\"row_heading level0 row5\" >DEAL_RATIO</th>\n",
       "                        <td id=\"T_ca2f34d4_f116_11e9_8f0f_acde48001122row5_col0\" class=\"data row5 col0\" >-0.0369973</td>\n",
       "                        <td id=\"T_ca2f34d4_f116_11e9_8f0f_acde48001122row5_col1\" class=\"data row5 col1\" >0.65362</td>\n",
       "                        <td id=\"T_ca2f34d4_f116_11e9_8f0f_acde48001122row5_col2\" class=\"data row5 col2\" >-0.0783041</td>\n",
       "                        <td id=\"T_ca2f34d4_f116_11e9_8f0f_acde48001122row5_col3\" class=\"data row5 col3\" >-0.175473</td>\n",
       "                        <td id=\"T_ca2f34d4_f116_11e9_8f0f_acde48001122row5_col4\" class=\"data row5 col4\" >-0.109234</td>\n",
       "                        <td id=\"T_ca2f34d4_f116_11e9_8f0f_acde48001122row5_col5\" class=\"data row5 col5\" >1</td>\n",
       "                        <td id=\"T_ca2f34d4_f116_11e9_8f0f_acde48001122row5_col6\" class=\"data row5 col6\" >0.0685705</td>\n",
       "            </tr>\n",
       "            <tr>\n",
       "                        <th id=\"T_ca2f34d4_f116_11e9_8f0f_acde48001122level0_row6\" class=\"row_heading level0 row6\" >INTIME_RATIO</th>\n",
       "                        <td id=\"T_ca2f34d4_f116_11e9_8f0f_acde48001122row6_col0\" class=\"data row6 col0\" >0.103357</td>\n",
       "                        <td id=\"T_ca2f34d4_f116_11e9_8f0f_acde48001122row6_col1\" class=\"data row6 col1\" >0.0509489</td>\n",
       "                        <td id=\"T_ca2f34d4_f116_11e9_8f0f_acde48001122row6_col2\" class=\"data row6 col2\" >-0.523567</td>\n",
       "                        <td id=\"T_ca2f34d4_f116_11e9_8f0f_acde48001122row6_col3\" class=\"data row6 col3\" >0.180241</td>\n",
       "                        <td id=\"T_ca2f34d4_f116_11e9_8f0f_acde48001122row6_col4\" class=\"data row6 col4\" >0.030058</td>\n",
       "                        <td id=\"T_ca2f34d4_f116_11e9_8f0f_acde48001122row6_col5\" class=\"data row6 col5\" >0.0685705</td>\n",
       "                        <td id=\"T_ca2f34d4_f116_11e9_8f0f_acde48001122row6_col6\" class=\"data row6 col6\" >1</td>\n",
       "            </tr>\n",
       "    </tbody></table>"
      ],
      "text/plain": [
       "<pandas.io.formats.style.Styler at 0x1a1db2d128>"
      ]
     },
     "execution_count": 19,
     "metadata": {},
     "output_type": "execute_result"
    }
   ],
   "source": [
    "# Проверка корреляции с другими признаками\n",
    "X_corr = df.corr()\n",
    "plt.matshow(X_corr)\n",
    "plt.show()\n",
    "X_corr.style.background_gradient(cmap='coolwarm')"
   ]
  },
  {
   "cell_type": "code",
   "execution_count": 20,
   "metadata": {},
   "outputs": [
    {
     "data": {
      "text/plain": [
       "'\\npd.isnull(df)\\ndf.isnull().sum()\\ndf.dropna()\\n'"
      ]
     },
     "execution_count": 20,
     "metadata": {},
     "output_type": "execute_result"
    }
   ],
   "source": [
    "\"\"\"\n",
    "pd.isnull(df)\n",
    "df.isnull().sum()\n",
    "df.dropna()\n",
    "\"\"\"\n"
   ]
  },
  {
   "cell_type": "code",
   "execution_count": 21,
   "metadata": {},
   "outputs": [
    {
     "name": "stdout",
     "output_type": "stream",
     "text": [
      "<class 'pandas.core.frame.DataFrame'>\n",
      "Int64Index: 105 entries, 213380 to 3547152\n",
      "Data columns (total 7 columns):\n",
      "COUNT_SUB_ISSUE       105 non-null int64\n",
      "COUNT_DEAL            105 non-null int64\n",
      "EXPIRED_MARK          105 non-null int64\n",
      "CANCEL_ACCEPT_MARK    105 non-null int64\n",
      "TASK_TOTAL            105 non-null int64\n",
      "DEAL_RATIO            105 non-null float64\n",
      "INTIME_RATIO          105 non-null float64\n",
      "dtypes: float64(2), int64(5)\n",
      "memory usage: 6.6 KB\n",
      "None\n",
      "Форма: (105, 7)\n",
      "\n",
      "Столбцы: Index(['COUNT_SUB_ISSUE', 'COUNT_DEAL', 'EXPIRED_MARK', 'CANCEL_ACCEPT_MARK',\n",
      "       'TASK_TOTAL', 'DEAL_RATIO', 'INTIME_RATIO'],\n",
      "      dtype='object')\n",
      "\n",
      "Индексы: Int64Index([ 213380,  236084,  249998,  250106,  256624,  541000,  609180,\n",
      "             614176,  614532,  619558,\n",
      "            ...\n",
      "            3501246, 3507116, 3509716, 3511920, 3516404, 3520812, 3531546,\n",
      "            3534184, 3534190, 3547152],\n",
      "           dtype='int64', name='USER_ID', length=105)\n",
      "\n"
     ]
    }
   ],
   "source": [
    "# Заменяем пропущенные значения средними\n",
    "df[\"DEAL_RATIO\"].fillna(df[\"DEAL_RATIO\"].mean(), inplace = True)\n",
    "df_info(df)"
   ]
  },
  {
   "cell_type": "code",
   "execution_count": 22,
   "metadata": {},
   "outputs": [
    {
     "name": "stdout",
     "output_type": "stream",
     "text": [
      "611.55210071433\n",
      "[[105.          77.31078209]\n",
      " [ 77.31078209  62.74770598]]\n",
      "Коэффициенты линейной регессии (пересечение оси, наклон): [[0.1686437 ]\n",
      " [0.05046532]]\n"
     ]
    }
   ],
   "source": [
    "# Построение линейной регрессии по формулам\n",
    "x2 = df[[\"INTIME_RATIO\"]].values\n",
    "ones = np.ones((x2.shape[0], 1))\n",
    "x2 = np.hstack((ones, x2))\n",
    "x2.shape\n",
    "y2 = df[[\"DEAL_RATIO\"]].values.reshape(-1, 1)\n",
    "XTX = x2.T.dot(x2)\n",
    "\n",
    "print(np.linalg.det(XTX))\n",
    "print(XTX)\n",
    "\n",
    "XTX_inv = np.linalg.inv(XTX)\n",
    "b = XTX_inv.dot(x2.T).dot(y2)\n",
    "\n",
    "print(\"Коэффициенты линейной регессии (пересечение оси, наклон):\",b)\n"
   ]
  },
  {
   "cell_type": "code",
   "execution_count": null,
   "metadata": {},
   "outputs": [],
   "source": []
  },
  {
   "cell_type": "code",
   "execution_count": 23,
   "metadata": {},
   "outputs": [
    {
     "name": "stdout",
     "output_type": "stream",
     "text": [
      "Slope: 0.05\n",
      "Intercept: 0.17\n"
     ]
    }
   ],
   "source": [
    "# Проверка с помощью sklearn\n",
    "x = df[[\"INTIME_RATIO\"]].values\n",
    "y = df[\"DEAL_RATIO\"].values\n",
    "\n",
    "from sklearn.linear_model import LinearRegression\n",
    "slr = LinearRegression()\n",
    "slr.fit(x, y)\n",
    "y_pred = slr.predict(x)\n",
    "print('Slope: {:.2f}'.format(slr.coef_[0]))\n",
    "print('Intercept: {:.2f}'.format(slr.intercept_))"
   ]
  },
  {
   "cell_type": "code",
   "execution_count": null,
   "metadata": {},
   "outputs": [],
   "source": []
  },
  {
   "cell_type": "code",
   "execution_count": 24,
   "metadata": {},
   "outputs": [
    {
     "data": {
      "text/plain": [
       "(105, 105)"
      ]
     },
     "execution_count": 24,
     "metadata": {},
     "output_type": "execute_result"
    }
   ],
   "source": [
    "y1 = np.array(df[[\"INTIME_RATIO\"]].values)\n",
    "y2 = np.array(df[[\"DEAL_RATIO\"]].values)\n",
    "\n",
    "n1 = y1.shape[0]\n",
    "n2 = y2.shape[0]\n",
    "\n",
    "n1, n2"
   ]
  },
  {
   "cell_type": "code",
   "execution_count": 25,
   "metadata": {
    "scrolled": false
   },
   "outputs": [
    {
     "name": "stdout",
     "output_type": "stream",
     "text": [
      "105 105\n",
      "0.7362931627808684 0.2058009715452671\n",
      "0.47104706716306777\n",
      "14.774653160502366 9.717608379983204\n",
      "7.387326580251183 0.046944968019242535\n",
      "\n",
      "T = 157.36141469354394\n",
      "F_crit = 3.039508254152558\n",
      "\n",
      "T > F_crit означает, что различия в параметрах Cвоевременность работы с задачей и \n",
      "Конверсия сделок статистически значимы\n"
     ]
    }
   ],
   "source": [
    "# Дисперсионный анализ - оценка совпадения распределений\n",
    "y1 = np.array(df[[\"INTIME_RATIO\"]].values)\n",
    "y2 = np.array(df[[\"DEAL_RATIO\"]].values)\n",
    "\n",
    "n1 = y1.shape[0]\n",
    "n2 = y2.shape[0]\n",
    "print(n1, n2)\n",
    "\n",
    "y1_mean = y1.mean()\n",
    "y2_mean = y2.mean()\n",
    "print(y1_mean, y2_mean)\n",
    "\n",
    "\n",
    "y = np.concatenate([y1, y2])\n",
    "y_mean = y.mean()\n",
    "print( y_mean)\n",
    "\n",
    "S2_F = n1 * (y1_mean - y_mean) ** 2 + n2 * (y2_mean - y_mean) ** 2\n",
    "\n",
    "S2_res = ((y1 - y1_mean) ** 2).sum() + ((y2 - y2_mean) ** 2).sum()\n",
    "\n",
    "print(S2_F, S2_res)\n",
    "\n",
    "S2_F + S2_res , ((y - y_mean) ** 2).sum()\n",
    "\n",
    "k = 3\n",
    "n = n1 + n2\n",
    "\n",
    "k1 = k - 1\n",
    "k2 = n - k\n",
    "\n",
    "sigma2_F = S2_F / k1\n",
    "sigma2_res = S2_res / k2\n",
    "\n",
    "print(sigma2_F, sigma2_res)\n",
    "\n",
    "T = sigma2_F / sigma2_res\n",
    "print(\"\\nT =\",T)\n",
    "\n",
    "alpha = 0.05\n",
    "\n",
    "F_crit = stats.f.ppf(1 - alpha, k1, k2)\n",
    "print(\"F_crit =\" ,F_crit)\n",
    "print(\"\\nT > F_crit означает, что различия в параметрах Cвоевременность работы с задачей и \\nКонверсия сделок статистически значимы\")"
   ]
  },
  {
   "cell_type": "code",
   "execution_count": 26,
   "metadata": {},
   "outputs": [
    {
     "name": "stdout",
     "output_type": "stream",
     "text": [
      "разница между средними 0.5304921912356013 общее среднее 0.47104706716306777\n"
     ]
    },
    {
     "ename": "NameError",
     "evalue": "name 't' is not defined",
     "output_type": "error",
     "traceback": [
      "\u001b[0;31m---------------------------------------------------------------------------\u001b[0m",
      "\u001b[0;31mNameError\u001b[0m                                 Traceback (most recent call last)",
      "\u001b[0;32m<ipython-input-26-6731ec2fc995>\u001b[0m in \u001b[0;36m<module>\u001b[0;34m\u001b[0m\n\u001b[1;32m      3\u001b[0m \u001b[0;31m#\u001b[0m\u001b[0;34m\u001b[0m\u001b[0;34m\u001b[0m\u001b[0;34m\u001b[0m\u001b[0m\n\u001b[1;32m      4\u001b[0m \u001b[0;34m\u001b[0m\u001b[0m\n\u001b[0;32m----> 5\u001b[0;31m \u001b[0mprint\u001b[0m\u001b[0;34m(\u001b[0m\u001b[0;34m(\u001b[0m\u001b[0my_mean\u001b[0m \u001b[0;34m-\u001b[0m \u001b[0mt\u001b[0m \u001b[0;34m*\u001b[0m \u001b[0mnp\u001b[0m\u001b[0;34m.\u001b[0m\u001b[0mstd\u001b[0m\u001b[0;34m(\u001b[0m\u001b[0my\u001b[0m\u001b[0;34m,\u001b[0m \u001b[0mddof\u001b[0m\u001b[0;34m=\u001b[0m\u001b[0;36m1\u001b[0m\u001b[0;34m)\u001b[0m \u001b[0;34m/\u001b[0m \u001b[0mnp\u001b[0m\u001b[0;34m.\u001b[0m\u001b[0msqrt\u001b[0m\u001b[0;34m(\u001b[0m\u001b[0mn\u001b[0m\u001b[0;34m)\u001b[0m\u001b[0;34m,\u001b[0m \u001b[0my_mean\u001b[0m \u001b[0;34m+\u001b[0m \u001b[0mt\u001b[0m \u001b[0;34m*\u001b[0m \u001b[0mnp\u001b[0m\u001b[0;34m.\u001b[0m\u001b[0mstd\u001b[0m\u001b[0;34m(\u001b[0m\u001b[0my\u001b[0m\u001b[0;34m,\u001b[0m \u001b[0mddof\u001b[0m\u001b[0;34m=\u001b[0m\u001b[0;36m1\u001b[0m\u001b[0;34m)\u001b[0m \u001b[0;34m/\u001b[0m \u001b[0mnp\u001b[0m\u001b[0;34m.\u001b[0m\u001b[0msqrt\u001b[0m\u001b[0;34m(\u001b[0m\u001b[0mn\u001b[0m\u001b[0;34m)\u001b[0m\u001b[0;34m)\u001b[0m\u001b[0;34m)\u001b[0m\u001b[0;34m\u001b[0m\u001b[0;34m\u001b[0m\u001b[0m\n\u001b[0m",
      "\u001b[0;31mNameError\u001b[0m: name 't' is not defined"
     ]
    }
   ],
   "source": [
    "# Факторный анализ\n",
    "print(\"разница между средними\", y1_mean - y2_mean, \"общее среднее\", y_mean)\n",
    "# \n",
    "\n",
    "print((y_mean - t * np.std(y, ddof=1) / np.sqrt(n), y_mean + t * np.std(y, ddof=1) / np.sqrt(n)))"
   ]
  },
  {
   "cell_type": "code",
   "execution_count": null,
   "metadata": {},
   "outputs": [],
   "source": [
    "sigma_y1 = np.std(y1, ddof=1)\n",
    "sigma_y2 = np.std(y2, ddof=1)\n",
    "T = (y1_mean - y2_mean) / np.sqrt(sigma_y1**2 / n1 + sigma_y2**2 / n2)\n",
    "T"
   ]
  },
  {
   "cell_type": "code",
   "execution_count": null,
   "metadata": {},
   "outputs": [],
   "source": [
    "n1 + n2 - 2\n",
    "# Значение t-критерия Стьюдента при p=0.05 для 100 по таблице =  1,984 (1,982 для 110)"
   ]
  },
  {
   "cell_type": "code",
   "execution_count": 27,
   "metadata": {},
   "outputs": [
    {
     "data": {
      "text/plain": [
       "1.9714346585183504"
      ]
     },
     "execution_count": 27,
     "metadata": {},
     "output_type": "execute_result"
    }
   ],
   "source": [
    "t = stats.t.ppf(1 - 0.05 / 2, df=n1 + n2 - 2)\n",
    "t\n",
    "# Значение t-критерия Стьюдента для выборки"
   ]
  },
  {
   "cell_type": "markdown",
   "metadata": {},
   "source": [
    "Значение рассчитанного t-критерия Стьюдента 17.78 больше табличного 1.971, значит различия сравниваемых величин статистически значимы."
   ]
  },
  {
   "cell_type": "code",
   "execution_count": null,
   "metadata": {},
   "outputs": [],
   "source": []
  }
 ],
 "metadata": {
  "kernelspec": {
   "display_name": "Python 3",
   "language": "python",
   "name": "python3"
  },
  "language_info": {
   "codemirror_mode": {
    "name": "ipython",
    "version": 3
   },
   "file_extension": ".py",
   "mimetype": "text/x-python",
   "name": "python",
   "nbconvert_exporter": "python",
   "pygments_lexer": "ipython3",
   "version": "3.7.3"
  }
 },
 "nbformat": 4,
 "nbformat_minor": 2
}
